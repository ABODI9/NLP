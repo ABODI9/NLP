{
  "cells": [
    {
      "cell_type": "markdown",
      "metadata": {
        "id": "ILtt4SxSMr_L"
      },
      "source": [
        "Importing libraries\n"
      ]
    },
    {
      "cell_type": "code",
      "execution_count": 29,
      "metadata": {
        "id": "eF2tvtZ3K2tK"
      },
      "outputs": [],
      "source": [
        "# Import libraries\n",
        "import json  # To work with JSON files\n",
        "import pandas as pd  # For data analysis and manipulation\n",
        "import random  # To shuffle the data for randomness\n",
        "\n",
        "\n"
      ]
    },
    {
      "cell_type": "markdown",
      "metadata": {
        "id": "6_vw7HXiMhta"
      },
      "source": [
        "Loading the data set, 158 documents"
      ]
    },
    {
      "cell_type": "code",
      "execution_count": 30,
      "metadata": {
        "colab": {
          "base_uri": "https://localhost:8080/"
        },
        "id": "kpA4BVGuxnb0",
        "outputId": "909694f6-bffe-4992-861c-72aea91256b3"
      },
      "outputs": [
        {
          "output_type": "stream",
          "name": "stdout",
          "text": [
            "Drive already mounted at /content/drive; to attempt to forcibly remount, call drive.mount(\"/content/drive\", force_remount=True).\n"
          ]
        }
      ],
      "source": [
        "from google.colab import drive\n",
        "\n",
        "# Mount Google Drive\n",
        "drive.mount('/content/drive')\n"
      ]
    },
    {
      "cell_type": "code",
      "execution_count": 31,
      "metadata": {
        "colab": {
          "base_uri": "https://localhost:8080/"
        },
        "id": "d5f1VITo6sGz",
        "outputId": "9aa0b972-3730-41d5-9fb3-e2bb4bf37ddc"
      },
      "outputs": [
        {
          "output_type": "stream",
          "name": "stdout",
          "text": [
            "Total documents loaded: 158\n",
            "Sample document: {'ID': 1, 'Document': 'الأكل الصحي يُعتبر جزءًا أساسيًا من نمط الحياة المتوازن. تناول الأطعمة الغنية بالفيتامينات والمعادن، مثل الخضروات والفواكه، يُعزز الصحة العامة ويُقلل من مخاطر الأمراض. الأطعمة الغنية بالألياف تُساعد على تحسين الهضم، بينما يُساهم تناول البروتينات الصحية في بناء العضلات وتقوية الجسم. الابتعاد عن الأطعمة المصنعة والمشبعة بالدهون يُساهم في تقليل مستويات الكوليسترول في الدم. تحقيق التوازن بين أنواع الطعام المختلفة، بالإضافة إلى شرب الماء بكميات كافية، يضمن الحفاظ على طاقة الجسم طوال اليوم.', 'Summary': 'الأكل الصحي يُعزز الصحة العامة ويُقلل من مخاطر الأمراض.', 'Category': 'Short', 'Topic': 'فوائد الأكل الصحي', 'Split': 'Train'}\n"
          ]
        }
      ],
      "source": [
        "import json\n",
        "\n",
        "# File path to your JSON file\n",
        "file_path = \"/content/drive/MyDrive/Colab Notebooks/ArabicDataSet.json\"\n",
        "try:\n",
        "    # Load the JSON file\n",
        "    with open(file_path, \"r\", encoding=\"utf-8\") as f:\n",
        "        data = json.load(f)\n",
        "\n",
        "    # Print total number of documents and a sample\n",
        "    print(f\"Total documents loaded: {len(data)}\")\n",
        "    print(\"Sample document:\", data[0])  # Display the first document\n",
        "except json.JSONDecodeError as e:\n",
        "    print(f\"JSONDecodeError: {e}\")\n",
        "except Exception as e:\n",
        "    print(f\"An unexpected error occurred: {e}\")\n"
      ]
    },
    {
      "cell_type": "markdown",
      "metadata": {
        "id": "SodyDbWlM7tf"
      },
      "source": [
        "Analyzing and processing the data set file"
      ]
    },
    {
      "cell_type": "markdown",
      "metadata": {
        "id": "UZ4pej3S0u5o"
      },
      "source": [
        " Inspect the Structure of the First Few Documents and Display Keys in the Dataset:"
      ]
    },
    {
      "cell_type": "code",
      "execution_count": 32,
      "metadata": {
        "colab": {
          "base_uri": "https://localhost:8080/"
        },
        "id": "Ar42ZqDi8tI7",
        "outputId": "165238ee-fb1b-4390-88f8-87dea4fd7a57"
      },
      "outputs": [
        {
          "output_type": "stream",
          "name": "stdout",
          "text": [
            "\n",
            "Inspecting the first few documents:\n",
            "Document 1:\n",
            "{'ID': 1, 'Document': 'الأكل الصحي يُعتبر جزءًا أساسيًا من نمط الحياة المتوازن. تناول الأطعمة الغنية بالفيتامينات والمعادن، مثل الخضروات والفواكه، يُعزز الصحة العامة ويُقلل من مخاطر الأمراض. الأطعمة الغنية بالألياف تُساعد على تحسين الهضم، بينما يُساهم تناول البروتينات الصحية في بناء العضلات وتقوية الجسم. الابتعاد عن الأطعمة المصنعة والمشبعة بالدهون يُساهم في تقليل مستويات الكوليسترول في الدم. تحقيق التوازن بين أنواع الطعام المختلفة، بالإضافة إلى شرب الماء بكميات كافية، يضمن الحفاظ على طاقة الجسم طوال اليوم.', 'Summary': 'الأكل الصحي يُعزز الصحة العامة ويُقلل من مخاطر الأمراض.', 'Category': 'Short', 'Topic': 'فوائد الأكل الصحي', 'Split': 'Train'}\n",
            "Document 2:\n",
            "{'ID': 2, 'Document': 'القراءة تُعد مفتاحًا لبناء عقل ناضج ومبدع. عندما تقرأ، تُبحر في عوالم جديدة وتكتسب معارف قد لا تجدها في مكان آخر. تساعد القراءة على تحسين التركيز وتقوية الذاكرة. كما تُسهم في تنمية المفردات وتعزيز القدرة على التعبير بوضوح. قراءة الروايات تمنح القارئ فرصة لفهم مشاعر الآخرين، بينما قراءة الكتب العلمية توسّع مداركه في مجالات الحياة المختلفة. إن القراءة ليست مجرد هواية، بل هي وسيلة لتغذية العقل والروح.', 'Summary': 'القراءة تُنمي العقل وتُحسن التركيز والذاكرة.', 'Category': 'Short', 'Topic': 'أهمية القراءة', 'Split': 'Train'}\n",
            "Document 3:\n",
            "{'ID': 3, 'Document': 'الرياضة ليست فقط نشاطًا بدنيًا، بل هي أسلوب حياة يُعزز الصحة العامة. ممارسة التمارين بانتظام تُحسن من وظائف القلب وتزيد من اللياقة البدنية. كما تُقلل من مخاطر الأمراض المزمنة مثل السكري وأمراض القلب. بالإضافة إلى ذلك، تُساعد الرياضة على تحسين المزاج والتخلص من التوتر والقلق. لا تحتاج إلى قضاء ساعات طويلة في التمارين؛ حتى الأنشطة اليومية مثل المشي أو ركوب الدراجة يمكن أن تكون مفيدة جدًا. الرياضة هي مفتاح لحياة مليئة بالطاقة والسعادة.', 'Summary': 'الرياضة تُحسن الصحة والمزاج وتُقلل التوتر.', 'Category': 'Short', 'Topic': 'أهمية الرياضة', 'Split': 'Train'}\n",
            "Document 4:\n",
            "{'ID': 4, 'Document': 'النوم المبكر من العادات الصحية التي تساهم في تحسين جودة الحياة. عندما ننام مبكرًا، يحصل الجسم على الوقت الكافي للتجديد والإصلاح، مما يعزز التركيز والطاقة خلال اليوم. تشير الدراسات إلى أن النوم الكافي يقلل من مخاطر الإصابة بالأمراض المزمنة مثل أمراض القلب والسمنة. كما يساعد النوم المبكر على تحسين المزاج وزيادة الإنتاجية. الالتزام بوقت نوم ثابت يُعزز صحة الجسد والعقل.', 'Summary': 'النوم المبكر يُعزز الصحة والطاقة والإنتاجية.', 'Category': 'Short', 'Topic': 'أهمية النوم المبكر', 'Split': 'Validation'}\n",
            "Document 5:\n",
            "{'ID': 5, 'Document': 'الموسيقى الكلاسيكية تُعد من أروع أنواع الفنون التي أثرت في حياة البشر على مر العصور. تتميز هذه الموسيقى بالتركيب العميق والتنوع الكبير في الألحان، مما يجعلها قادرة على لمس مشاعر الإنسان بطرق فريدة. تعود أصول الموسيقى الكلاسيكية إلى أوروبا، حيث أبدع أعظم الموسيقيين مثل بيتهوفن وموزارت في تقديم أعمال خالدة. تُحسن الموسيقى الكلاسيكية المزاج وتُساعد على الاسترخاء والتأمل.', 'Summary': 'الموسيقى الكلاسيكية تُبرز الجمال وتُحسن المزاج.', 'Category': 'Short', 'Topic': 'جمال الموسيقى الكلاسيكية', 'Split': 'Validation'}\n",
            "\n",
            "Keys in the document:\n",
            "dict_keys(['ID', 'Document', 'Summary', 'Category', 'Topic', 'Split'])\n"
          ]
        }
      ],
      "source": [
        "# Check the structure of the first few documents\n",
        "print(\"\\nInspecting the first few documents:\")\n",
        "for i in range(min(5, len(data))):\n",
        "    print(f\"Document {i + 1}:\")\n",
        "    print(data[i])\n",
        "\n",
        "# Display keys in the dataset\n",
        "print(\"\\nKeys in the document:\")\n",
        "print(data[0].keys())\n"
      ]
    },
    {
      "cell_type": "code",
      "execution_count": 33,
      "metadata": {
        "colab": {
          "base_uri": "https://localhost:8080/"
        },
        "id": "ydV_t9p8-WMR",
        "outputId": "903bdd32-8cb5-4ed8-f3e0-b1851bc4234c"
      },
      "outputs": [
        {
          "output_type": "stream",
          "name": "stdout",
          "text": [
            "Number of documents with missing values: 0\n",
            "Total documents after cleaning: 158\n"
          ]
        }
      ],
      "source": [
        "# Identify documents with missing fields\n",
        "missing_docs = [doc for doc in data if any(value == \"\" or value is None for value in doc.values())]\n",
        "\n",
        "# Print number of problematic documents\n",
        "print(f\"Number of documents with missing values: {len(missing_docs)}\")\n",
        "\n",
        "# Remove problematic documents from the dataset\n",
        "data = [doc for doc in data if all(value != \"\" and value is not None for value in doc.values())]\n",
        "\n",
        "# Verify the cleaned dataset\n",
        "print(f\"Total documents after cleaning: {len(data)}\")\n"
      ]
    },
    {
      "cell_type": "code",
      "execution_count": 34,
      "metadata": {
        "colab": {
          "base_uri": "https://localhost:8080/",
          "height": 1000
        },
        "id": "hDKKpFU8-fn2",
        "outputId": "65e01fc0-395f-499d-b1b8-81b730fbed88"
      },
      "outputs": [
        {
          "output_type": "stream",
          "name": "stdout",
          "text": [
            "\n",
            "Dataset Summary:\n",
            "         ID                                           Document  \\\n",
            "count   158                                                158   \n",
            "unique  158                                                158   \n",
            "top       1  الأكل الصحي يُعتبر جزءًا أساسيًا من نمط الحياة...   \n",
            "freq      1                                                  1   \n",
            "\n",
            "                                                  Summary Category  Topic  \\\n",
            "count                                                 158      158    158   \n",
            "unique                                                158        3    148   \n",
            "top     الأكل الصحي يُعزز الصحة العامة ويُقلل من مخاطر...    Short  Music   \n",
            "freq                                                    1       72     10   \n",
            "\n",
            "        Split  \n",
            "count     158  \n",
            "unique      8  \n",
            "top     Train  \n",
            "freq      106  \n",
            "\n",
            "Document Length Statistics:\n",
            "count     158.000000\n",
            "mean      758.139241\n",
            "std       542.232980\n",
            "min       151.000000\n",
            "25%       326.500000\n",
            "50%       558.500000\n",
            "75%      1115.000000\n",
            "max      2555.000000\n",
            "Name: doc_length, dtype: float64\n",
            "\n",
            "Category Distribution:\n",
            "Category\n",
            "Short     72\n",
            "Long      57\n",
            "Medium    29\n",
            "Name: count, dtype: int64\n",
            "\n",
            "Topic Distribution:\n",
            "Topic\n",
            "Music                                                   10\n",
            "ثقل الكلمات وتأثيرها على حياتنا                          2\n",
            "فوائد الأكل الصحي                                        1\n",
            "Vison                                                    1\n",
            "قوس قزح جمال الطبيعة وأسرار الفيزياء                     1\n",
            "                                                        ..\n",
            " كيفية كشف الجرائم من خلال الأنظمة الحديثة               1\n",
            "سيكولوجية الفلاسفة بين العقلانية والتساؤلات الوجودية     1\n",
            "أصل شخصية دراكولا بين التاريخ والأسطورة                  1\n",
            "زهور التوليبرمز الجمال والأناقة                          1\n",
            "eating disorders                                         1\n",
            "Name: count, Length: 148, dtype: int64\n",
            "\n",
            "Number of duplicate documents: 0\n",
            "Total documents after removing duplicates: 158\n"
          ]
        },
        {
          "output_type": "display_data",
          "data": {
            "text/plain": [
              "<Figure size 800x500 with 1 Axes>"
            ],
            "image/png": "[encoded data removed]"
          },
          "metadata": {}
        }
      ],
      "source": [
        "# Convert the data into a DataFrame for easier analysis\n",
        "df = pd.DataFrame(data)\n",
        "\n",
        "# Check basic statistics\n",
        "print(\"\\nDataset Summary:\")\n",
        "print(df.describe(include=\"all\"))\n",
        "\n",
        "# Analyze document lengths\n",
        "df['doc_length'] = df['Document'].apply(len)\n",
        "print(\"\\nDocument Length Statistics:\")\n",
        "print(df['doc_length'].describe())\n",
        "\n",
        "# Plot document lengths\n",
        "df['doc_length'].hist(bins=20, figsize=(8, 5))\n",
        "# Analyze category distribution\n",
        "print(\"\\nCategory Distribution:\")\n",
        "print(df['Category'].value_counts())\n",
        "\n",
        "# Analyze topic distribution\n",
        "print(\"\\nTopic Distribution:\")\n",
        "print(df['Topic'].value_counts())\n",
        "\n",
        "# Visualize the category distribution\n",
        "df['Category'].value_counts().plot(kind='bar', figsize=(8, 5), title=\"Category Distribution\")\n",
        "# Check for duplicate documents\n",
        "duplicate_docs = df[df.duplicated(subset='Document', keep=False)]\n",
        "\n",
        "print(f\"\\nNumber of duplicate documents: {len(duplicate_docs)}\")\n",
        "\n",
        "# Drop duplicates if needed\n",
        "df = df.drop_duplicates(subset='Document')\n",
        "print(f\"Total documents after removing duplicates: {len(df)}\")\n",
        "\n",
        "\n"
      ]
    },
    {
      "cell_type": "markdown",
      "metadata": {
        "id": "lBoLM1AnEn3L"
      },
      "source": [
        "Text normalization\n"
      ]
    },
    {
      "cell_type": "code",
      "execution_count": 35,
      "metadata": {
        "colab": {
          "base_uri": "https://localhost:8080/"
        },
        "collapsed": true,
        "id": "1Fw0pD9-Em25",
        "outputId": "b383f7a0-ea41-4f26-a49e-b2a7daa79dd6"
      },
      "outputs": [
        {
          "output_type": "stream",
          "name": "stdout",
          "text": [
            "Requirement already satisfied: nltk in /usr/local/lib/python3.10/dist-packages (3.9.1)\n",
            "Requirement already satisfied: camel-tools in /usr/local/lib/python3.10/dist-packages (1.5.5)\n",
            "Requirement already satisfied: scikit-learn in /usr/local/lib/python3.10/dist-packages (1.6.0)\n",
            "Requirement already satisfied: transformers in /usr/local/lib/python3.10/dist-packages (4.43.4)\n",
            "Requirement already satisfied: click in /usr/local/lib/python3.10/dist-packages (from nltk) (8.1.7)\n",
            "Requirement already satisfied: joblib in /usr/local/lib/python3.10/dist-packages (from nltk) (1.4.2)\n",
            "Requirement already satisfied: regex>=2021.8.3 in /usr/local/lib/python3.10/dist-packages (from nltk) (2024.11.6)\n",
            "Requirement already satisfied: tqdm in /usr/local/lib/python3.10/dist-packages (from nltk) (4.67.1)\n",
            "Requirement already satisfied: future in /usr/local/lib/python3.10/dist-packages (from camel-tools) (1.0.0)\n",
            "Requirement already satisfied: six in /usr/local/lib/python3.10/dist-packages (from camel-tools) (1.17.0)\n",
            "Requirement already satisfied: docopt in /usr/local/lib/python3.10/dist-packages (from camel-tools) (0.6.2)\n",
            "Requirement already satisfied: cachetools in /usr/local/lib/python3.10/dist-packages (from camel-tools) (5.5.0)\n",
            "Requirement already satisfied: numpy<2 in /usr/local/lib/python3.10/dist-packages (from camel-tools) (1.26.4)\n",
            "Requirement already satisfied: scipy in /usr/local/lib/python3.10/dist-packages (from camel-tools) (1.13.1)\n",
            "Requirement already satisfied: pandas in /usr/local/lib/python3.10/dist-packages (from camel-tools) (2.2.2)\n",
            "Requirement already satisfied: dill in /usr/local/lib/python3.10/dist-packages (from camel-tools) (0.3.8)\n",
            "Requirement already satisfied: torch>=2.0 in /usr/local/lib/python3.10/dist-packages (from camel-tools) (2.5.1+cu121)\n",
            "Requirement already satisfied: editdistance in /usr/local/lib/python3.10/dist-packages (from camel-tools) (0.8.1)\n",
            "Requirement already satisfied: requests in /usr/local/lib/python3.10/dist-packages (from camel-tools) (2.32.3)\n",
            "Requirement already satisfied: emoji in /usr/local/lib/python3.10/dist-packages (from camel-tools) (2.14.0)\n",
            "Requirement already satisfied: pyrsistent in /usr/local/lib/python3.10/dist-packages (from camel-tools) (0.20.0)\n",
            "Requirement already satisfied: tabulate in /usr/local/lib/python3.10/dist-packages (from camel-tools) (0.9.0)\n",
            "Requirement already satisfied: muddler in /usr/local/lib/python3.10/dist-packages (from camel-tools) (0.1.3)\n",
            "Requirement already satisfied: camel-kenlm>=2024.5.6 in /usr/local/lib/python3.10/dist-packages (from camel-tools) (2024.5.6)\n",
            "Requirement already satisfied: threadpoolctl>=3.1.0 in /usr/local/lib/python3.10/dist-packages (from scikit-learn) (3.5.0)\n",
            "Requirement already satisfied: filelock in /usr/local/lib/python3.10/dist-packages (from transformers) (3.16.1)\n",
            "Requirement already satisfied: huggingface-hub<1.0,>=0.23.2 in /usr/local/lib/python3.10/dist-packages (from transformers) (0.27.0)\n",
            "Requirement already satisfied: packaging>=20.0 in /usr/local/lib/python3.10/dist-packages (from transformers) (24.2)\n",
            "Requirement already satisfied: pyyaml>=5.1 in /usr/local/lib/python3.10/dist-packages (from transformers) (6.0.2)\n",
            "Requirement already satisfied: safetensors>=0.4.1 in /usr/local/lib/python3.10/dist-packages (from transformers) (0.4.5)\n",
            "Requirement already satisfied: tokenizers<0.20,>=0.19 in /usr/local/lib/python3.10/dist-packages (from transformers) (0.19.1)\n",
            "Requirement already satisfied: fsspec>=2023.5.0 in /usr/local/lib/python3.10/dist-packages (from huggingface-hub<1.0,>=0.23.2->transformers) (2024.9.0)\n",
            "Requirement already satisfied: typing-extensions>=3.7.4.3 in /usr/local/lib/python3.10/dist-packages (from huggingface-hub<1.0,>=0.23.2->transformers) (4.12.2)\n",
            "Requirement already satisfied: networkx in /usr/local/lib/python3.10/dist-packages (from torch>=2.0->camel-tools) (3.4.2)\n",
            "Requirement already satisfied: jinja2 in /usr/local/lib/python3.10/dist-packages (from torch>=2.0->camel-tools) (3.1.4)\n",
            "Requirement already satisfied: sympy==1.13.1 in /usr/local/lib/python3.10/dist-packages (from torch>=2.0->camel-tools) (1.13.1)\n",
            "Requirement already satisfied: mpmath<1.4,>=1.1.0 in /usr/local/lib/python3.10/dist-packages (from sympy==1.13.1->torch>=2.0->camel-tools) (1.3.0)\n",
            "Requirement already satisfied: python-dateutil>=2.8.2 in /usr/local/lib/python3.10/dist-packages (from pandas->camel-tools) (2.8.2)\n",
            "Requirement already satisfied: pytz>=2020.1 in /usr/local/lib/python3.10/dist-packages (from pandas->camel-tools) (2024.2)\n",
            "Requirement already satisfied: tzdata>=2022.7 in /usr/local/lib/python3.10/dist-packages (from pandas->camel-tools) (2024.2)\n",
            "Requirement already satisfied: charset-normalizer<4,>=2 in /usr/local/lib/python3.10/dist-packages (from requests->camel-tools) (3.4.0)\n",
            "Requirement already satisfied: idna<4,>=2.5 in /usr/local/lib/python3.10/dist-packages (from requests->camel-tools) (3.10)\n",
            "Requirement already satisfied: urllib3<3,>=1.21.1 in /usr/local/lib/python3.10/dist-packages (from requests->camel-tools) (2.2.3)\n",
            "Requirement already satisfied: certifi>=2017.4.17 in /usr/local/lib/python3.10/dist-packages (from requests->camel-tools) (2024.12.14)\n",
            "Requirement already satisfied: MarkupSafe>=2.0 in /usr/local/lib/python3.10/dist-packages (from jinja2->torch>=2.0->camel-tools) (3.0.2)\n"
          ]
        },
        {
          "output_type": "stream",
          "name": "stderr",
          "text": [
            "[nltk_data] Downloading package punkt to /root/nltk_data...\n",
            "[nltk_data]   Unzipping tokenizers/punkt.zip.\n"
          ]
        },
        {
          "output_type": "stream",
          "name": "stdout",
          "text": [
            "Text normalization complete!\n"
          ]
        }
      ],
      "source": [
        "# Install libraries for Arabic NLP and feature extraction\n",
        "!pip install nltk camel-tools scikit-learn transformers\n",
        "import nltk\n",
        "nltk.download('punkt', force=True)\n",
        "  # Download tokenization resources\n",
        "import re\n",
        "from nltk.tokenize import word_tokenize\n",
        "from camel_tools.utils.dediac import dediac_ar\n",
        "\n",
        "def normalize_text(text):\n",
        "    # Remove diacritics\n",
        "    text = dediac_ar(text)\n",
        "    # Normalize characters\n",
        "    text = re.sub(r'[إأآا]', 'ا', text)\n",
        "    text = re.sub(r'ة', 'ه', text)\n",
        "    text = re.sub(r'ى', 'ي', text)\n",
        "    # Remove punctuation and non-Arabic characters\n",
        "    text = re.sub(r'[^ء-ي\\s]', '', text)\n",
        "    # Remove extra spaces\n",
        "    text = re.sub(r'\\s+', ' ', text).strip()\n",
        "    return text\n",
        "\n",
        "# Apply normalization to the dataset\n",
        "df['Document'] = df['Document'].apply(normalize_text)\n",
        "print(\"Text normalization complete!\")\n"
      ]
    },
    {
      "cell_type": "code",
      "execution_count": 36,
      "metadata": {
        "colab": {
          "base_uri": "https://localhost:8080/"
        },
        "id": "ixGAy1MvGPql",
        "outputId": "250ed9da-bd1f-451c-99c1-7028a07e0cf1"
      },
      "outputs": [
        {
          "output_type": "stream",
          "name": "stderr",
          "text": [
            "[nltk_data] Downloading package punkt_tab to /root/nltk_data...\n",
            "[nltk_data]   Package punkt_tab is already up-to-date!\n"
          ]
        },
        {
          "output_type": "stream",
          "name": "stdout",
          "text": [
            "Sample tokens: ['الاكل', 'الصحي', 'يعتبر', 'جزءا', 'اساسيا', 'من', 'نمط', 'الحياه', 'المتوازن', 'تناول', 'الاطعمه', 'الغنيه', 'بالفيتامينات', 'والمعادن', 'مثل', 'الخضروات', 'والفواكه', 'يعزز', 'الصحه', 'العامه', 'ويقلل', 'من', 'مخاطر', 'الامراض', 'الاطعمه', 'الغنيه', 'بالالياف', 'تساعد', 'علي', 'تحسين', 'الهضم', 'بينما', 'يساهم', 'تناول', 'البروتينات', 'الصحيه', 'في', 'بناء', 'العضلات', 'وتقويه', 'الجسم', 'الابتعاد', 'عن', 'الاطعمه', 'المصنعه', 'والمشبعه', 'بالدهون', 'يساهم', 'في', 'تقليل', 'مستويات', 'الكوليسترول', 'في', 'الدم', 'تحقيق', 'التوازن', 'بين', 'انواع', 'الطعام', 'المختلفه', 'بالاضافه', 'الي', 'شرب', 'الماء', 'بكميات', 'كافيه', 'يضمن', 'الحفاظ', 'علي', 'طاقه', 'الجسم', 'طوال', 'اليوم']\n"
          ]
        }
      ],
      "source": [
        "import nltk\n",
        "nltk.download('punkt_tab')\n",
        "\n",
        "from nltk.tokenize import word_tokenize\n",
        "\n",
        "# Tokenize the documents\n",
        "df['tokens'] = df['Document'].apply(word_tokenize)\n",
        "\n",
        "# Check tokenized output\n",
        "print(\"Sample tokens:\", df['tokens'].iloc[0])\n"
      ]
    },
    {
      "cell_type": "markdown",
      "metadata": {
        "id": "GAosxDypKzeg"
      },
      "source": [
        "**Feature engineering:**\n",
        "1. Word Count and Unique Word Count\n",
        "Useful for understanding document complexity."
      ]
    },
    {
      "cell_type": "code",
      "execution_count": 37,
      "metadata": {
        "colab": {
          "base_uri": "https://localhost:8080/"
        },
        "id": "RaigAoleKvhh",
        "outputId": "a18c79c3-5e29-4fc1-eedf-041e72b1411d"
      },
      "outputs": [
        {
          "output_type": "stream",
          "name": "stdout",
          "text": [
            "Feature engineering complete!\n",
            "       word_count  unique_word_count\n",
            "count  158.000000         158.000000\n",
            "mean   120.702532          96.088608\n",
            "std     87.311910          61.032870\n",
            "min     21.000000          21.000000\n",
            "25%     51.500000          48.250000\n",
            "50%     88.000000          75.000000\n",
            "75%    177.750000         139.000000\n",
            "max    430.000000         286.000000\n"
          ]
        }
      ],
      "source": [
        "df['word_count'] = df['tokens'].apply(len)\n",
        "df['unique_word_count'] = df['tokens'].apply(lambda x: len(set(x)))\n",
        "\n",
        "print(\"Feature engineering complete!\")\n",
        "print(df[['word_count', 'unique_word_count']].describe())\n"
      ]
    },
    {
      "cell_type": "markdown",
      "metadata": {
        "id": "9YypqzLpLGPW"
      },
      "source": [
        "2. TF-IDF (Term Frequency-Inverse Document Frequency)\n",
        "Measures the importance of words in a document relative to the corpus."
      ]
    },
    {
      "cell_type": "code",
      "execution_count": 38,
      "metadata": {
        "colab": {
          "base_uri": "https://localhost:8080/"
        },
        "id": "IjnkWgfaLKsP",
        "outputId": "80dd0ff5-322c-47c2-98c4-efee28bec576"
      },
      "outputs": [
        {
          "output_type": "stream",
          "name": "stdout",
          "text": [
            "TF-IDF matrix shape: (158, 1000)\n"
          ]
        }
      ],
      "source": [
        "from sklearn.feature_extraction.text import TfidfVectorizer\n",
        "\n",
        "# Create a TF-IDF vectorizer\n",
        "vectorizer = TfidfVectorizer(max_features=1000, token_pattern=r\"(?u)\\b\\w+\\b\")\n",
        "\n",
        "# Fit and transform the DOCUMENT column\n",
        "tfidf_matrix = vectorizer.fit_transform(df['Document'])\n",
        "print(\"TF-IDF matrix shape:\", tfidf_matrix.shape)\n"
      ]
    },
    {
      "cell_type": "markdown",
      "metadata": {
        "id": "ErClvr_6LYrd"
      },
      "source": [
        "3. Embedding Features\n",
        "Generate word or document embeddings using pre-trained models."
      ]
    },
    {
      "cell_type": "code",
      "execution_count": 39,
      "metadata": {
        "colab": {
          "base_uri": "https://localhost:8080/"
        },
        "id": "6XFljpimLXts",
        "outputId": "d8422857-4890-4c89-8960-717808f3f4e5"
      },
      "outputs": [
        {
          "output_type": "stream",
          "name": "stdout",
          "text": [
            "Sample embedding shape: torch.Size([768])\n"
          ]
        }
      ],
      "source": [
        "from transformers import AutoTokenizer, AutoModel\n",
        "import torch\n",
        "\n",
        "# Load pre-trained AraBERT tokenizer and model\n",
        "tokenizer = AutoTokenizer.from_pretrained(\"aubmindlab/bert-base-arabertv02\")\n",
        "model = AutoModel.from_pretrained(\"aubmindlab/bert-base-arabertv02\")\n",
        "\n",
        "# Generate embeddings for a sample document\n",
        "text = df['Document'].iloc[0]\n",
        "inputs = tokenizer(text, return_tensors=\"pt\", truncation=True, padding=True)\n",
        "outputs = model(**inputs)\n",
        "embedding = outputs.last_hidden_state.mean(dim=1).squeeze()\n",
        "\n",
        "print(\"Sample embedding shape:\", embedding.shape)\n"
      ]
    },
    {
      "cell_type": "code",
      "execution_count": 40,
      "metadata": {
        "colab": {
          "base_uri": "https://localhost:8080/"
        },
        "id": "4mS_HHY0_f-P",
        "outputId": "c38ca644-de24-4c1a-956c-03b01a511f87"
      },
      "outputs": [
        {
          "output_type": "stream",
          "name": "stdout",
          "text": [
            "Training set: 110 documents\n",
            "Validation set: 23 documents\n",
            "Test set: 25 documents\n"
          ]
        }
      ],
      "source": [
        "# Shuffle the data\n",
        "random.shuffle(data)\n",
        "\n",
        "# Define split proportions\n",
        "total_docs = len(data)\n",
        "train_size = int(0.7 * total_docs)\n",
        "val_size = int(0.15 * total_docs)\n",
        "\n",
        "# Split the data\n",
        "train_data = data[:train_size]\n",
        "val_data = data[train_size:train_size + val_size]\n",
        "test_data = data[train_size + val_size:]\n",
        "\n",
        "# Verify the splits\n",
        "print(f\"Training set: {len(train_data)} documents\")\n",
        "print(f\"Validation set: {len(val_data)} documents\")\n",
        "print(f\"Test set: {len(test_data)} documents\")\n"
      ]
    },
    {
      "cell_type": "code",
      "execution_count": 41,
      "metadata": {
        "colab": {
          "base_uri": "https://localhost:8080/"
        },
        "id": "8KbI6fcM_vV-",
        "outputId": "53ea0691-d640-4664-ae98-2667340e5dae"
      },
      "outputs": [
        {
          "output_type": "stream",
          "name": "stdout",
          "text": [
            "Data splits saved successfully!\n"
          ]
        }
      ],
      "source": [
        "# Save the splits into separate JSON files\n",
        "output_paths = {\n",
        "    \"train\": \"/content/drive/MyDrive/Colab Notebooks/train_data.json\",\n",
        "    \"validate\": \"/content/drive/MyDrive/Colab Notebooks/val_data.json\",\n",
        "    \"test\": \"/content/drive/MyDrive/Colab Notebooks/test_data.json\"\n",
        "}\n",
        "\n",
        "for split_name, split_data in zip(output_paths.keys(), [train_data, val_data, test_data]):\n",
        "    with open(output_paths[split_name], \"w\", encoding=\"utf-8\") as f:\n",
        "        json.dump(split_data, f, ensure_ascii=False, indent=4)\n",
        "\n",
        "print(\"Data splits saved successfully!\")\n"
      ]
    },
    {
      "cell_type": "markdown",
      "metadata": {
        "id": "R-SYZRrL_Qo6"
      },
      "source": [
        "1.AraBER Model"
      ]
    },
    {
      "cell_type": "code",
      "execution_count": 42,
      "metadata": {
        "colab": {
          "base_uri": "https://localhost:8080/"
        },
        "id": "_tUUmq9i_QOF",
        "outputId": "aa5d155b-a44e-4d28-fd18-bc9f84f12177",
        "collapsed": true
      },
      "outputs": [
        {
          "output_type": "stream",
          "name": "stdout",
          "text": [
            "Requirement already satisfied: transformers in /usr/local/lib/python3.10/dist-packages (4.43.4)\n",
            "Requirement already satisfied: datasets in /usr/local/lib/python3.10/dist-packages (3.2.0)\n",
            "Requirement already satisfied: torch in /usr/local/lib/python3.10/dist-packages (2.5.1+cu121)\n",
            "Requirement already satisfied: nltk in /usr/local/lib/python3.10/dist-packages (3.9.1)\n",
            "Requirement already satisfied: scikit-learn in /usr/local/lib/python3.10/dist-packages (1.6.0)\n",
            "Requirement already satisfied: rouge in /usr/local/lib/python3.10/dist-packages (1.0.1)\n",
            "Requirement already satisfied: filelock in /usr/local/lib/python3.10/dist-packages (from transformers) (3.16.1)\n",
            "Requirement already satisfied: huggingface-hub<1.0,>=0.23.2 in /usr/local/lib/python3.10/dist-packages (from transformers) (0.27.0)\n",
            "Requirement already satisfied: numpy>=1.17 in /usr/local/lib/python3.10/dist-packages (from transformers) (1.26.4)\n",
            "Requirement already satisfied: packaging>=20.0 in /usr/local/lib/python3.10/dist-packages (from transformers) (24.2)\n",
            "Requirement already satisfied: pyyaml>=5.1 in /usr/local/lib/python3.10/dist-packages (from transformers) (6.0.2)\n",
            "Requirement already satisfied: regex!=2019.12.17 in /usr/local/lib/python3.10/dist-packages (from transformers) (2024.11.6)\n",
            "Requirement already satisfied: requests in /usr/local/lib/python3.10/dist-packages (from transformers) (2.32.3)\n",
            "Requirement already satisfied: safetensors>=0.4.1 in /usr/local/lib/python3.10/dist-packages (from transformers) (0.4.5)\n",
            "Requirement already satisfied: tokenizers<0.20,>=0.19 in /usr/local/lib/python3.10/dist-packages (from transformers) (0.19.1)\n",
            "Requirement already satisfied: tqdm>=4.27 in /usr/local/lib/python3.10/dist-packages (from transformers) (4.67.1)\n",
            "Requirement already satisfied: pyarrow>=15.0.0 in /usr/local/lib/python3.10/dist-packages (from datasets) (17.0.0)\n",
            "Requirement already satisfied: dill<0.3.9,>=0.3.0 in /usr/local/lib/python3.10/dist-packages (from datasets) (0.3.8)\n",
            "Requirement already satisfied: pandas in /usr/local/lib/python3.10/dist-packages (from datasets) (2.2.2)\n",
            "Requirement already satisfied: xxhash in /usr/local/lib/python3.10/dist-packages (from datasets) (3.5.0)\n",
            "Requirement already satisfied: multiprocess<0.70.17 in /usr/local/lib/python3.10/dist-packages (from datasets) (0.70.16)\n",
            "Requirement already satisfied: fsspec<=2024.9.0,>=2023.1.0 in /usr/local/lib/python3.10/dist-packages (from fsspec[http]<=2024.9.0,>=2023.1.0->datasets) (2024.9.0)\n",
            "Requirement already satisfied: aiohttp in /usr/local/lib/python3.10/dist-packages (from datasets) (3.11.10)\n",
            "Requirement already satisfied: typing-extensions>=4.8.0 in /usr/local/lib/python3.10/dist-packages (from torch) (4.12.2)\n",
            "Requirement already satisfied: networkx in /usr/local/lib/python3.10/dist-packages (from torch) (3.4.2)\n",
            "Requirement already satisfied: jinja2 in /usr/local/lib/python3.10/dist-packages (from torch) (3.1.4)\n",
            "Requirement already satisfied: sympy==1.13.1 in /usr/local/lib/python3.10/dist-packages (from torch) (1.13.1)\n",
            "Requirement already satisfied: mpmath<1.4,>=1.1.0 in /usr/local/lib/python3.10/dist-packages (from sympy==1.13.1->torch) (1.3.0)\n",
            "Requirement already satisfied: click in /usr/local/lib/python3.10/dist-packages (from nltk) (8.1.7)\n",
            "Requirement already satisfied: joblib in /usr/local/lib/python3.10/dist-packages (from nltk) (1.4.2)\n",
            "Requirement already satisfied: scipy>=1.6.0 in /usr/local/lib/python3.10/dist-packages (from scikit-learn) (1.13.1)\n",
            "Requirement already satisfied: threadpoolctl>=3.1.0 in /usr/local/lib/python3.10/dist-packages (from scikit-learn) (3.5.0)\n",
            "Requirement already satisfied: six in /usr/local/lib/python3.10/dist-packages (from rouge) (1.17.0)\n",
            "Requirement already satisfied: aiohappyeyeballs>=2.3.0 in /usr/local/lib/python3.10/dist-packages (from aiohttp->datasets) (2.4.4)\n",
            "Requirement already satisfied: aiosignal>=1.1.2 in /usr/local/lib/python3.10/dist-packages (from aiohttp->datasets) (1.3.2)\n",
            "Requirement already satisfied: async-timeout<6.0,>=4.0 in /usr/local/lib/python3.10/dist-packages (from aiohttp->datasets) (4.0.3)\n",
            "Requirement already satisfied: attrs>=17.3.0 in /usr/local/lib/python3.10/dist-packages (from aiohttp->datasets) (24.3.0)\n",
            "Requirement already satisfied: frozenlist>=1.1.1 in /usr/local/lib/python3.10/dist-packages (from aiohttp->datasets) (1.5.0)\n",
            "Requirement already satisfied: multidict<7.0,>=4.5 in /usr/local/lib/python3.10/dist-packages (from aiohttp->datasets) (6.1.0)\n",
            "Requirement already satisfied: propcache>=0.2.0 in /usr/local/lib/python3.10/dist-packages (from aiohttp->datasets) (0.2.1)\n",
            "Requirement already satisfied: yarl<2.0,>=1.17.0 in /usr/local/lib/python3.10/dist-packages (from aiohttp->datasets) (1.18.3)\n",
            "Requirement already satisfied: charset-normalizer<4,>=2 in /usr/local/lib/python3.10/dist-packages (from requests->transformers) (3.4.0)\n",
            "Requirement already satisfied: idna<4,>=2.5 in /usr/local/lib/python3.10/dist-packages (from requests->transformers) (3.10)\n",
            "Requirement already satisfied: urllib3<3,>=1.21.1 in /usr/local/lib/python3.10/dist-packages (from requests->transformers) (2.2.3)\n",
            "Requirement already satisfied: certifi>=2017.4.17 in /usr/local/lib/python3.10/dist-packages (from requests->transformers) (2024.12.14)\n",
            "Requirement already satisfied: MarkupSafe>=2.0 in /usr/local/lib/python3.10/dist-packages (from jinja2->torch) (3.0.2)\n",
            "Requirement already satisfied: python-dateutil>=2.8.2 in /usr/local/lib/python3.10/dist-packages (from pandas->datasets) (2.8.2)\n",
            "Requirement already satisfied: pytz>=2020.1 in /usr/local/lib/python3.10/dist-packages (from pandas->datasets) (2024.2)\n",
            "Requirement already satisfied: tzdata>=2022.7 in /usr/local/lib/python3.10/dist-packages (from pandas->datasets) (2024.2)\n"
          ]
        }
      ],
      "source": [
        "!pip install transformers datasets torch nltk scikit-learn rouge\n"
      ]
    },
    {
      "cell_type": "markdown",
      "metadata": {
        "id": "4HnbSL8l_x19"
      },
      "source": [
        "Load and prepare the dataset"
      ]
    },
    {
      "cell_type": "code",
      "execution_count": 43,
      "metadata": {
        "colab": {
          "base_uri": "https://localhost:8080/"
        },
        "id": "8_OLtv0M_00p",
        "outputId": "aeb7c868-b1c9-4894-9a15-5b29fd3b1c9c"
      },
      "outputs": [
        {
          "output_type": "stream",
          "name": "stdout",
          "text": [
            "Training Set: 110 documents\n",
            "Validation Set: 23 documents\n",
            "Test Set: 25 documents\n"
          ]
        }
      ],
      "source": [
        "import json\n",
        "\n",
        "# Paths to the datasets\n",
        "train_path = \"/content/drive/MyDrive/Colab Notebooks/train_data.json\"\n",
        "val_path = \"/content/drive/MyDrive/Colab Notebooks/val_data.json\"\n",
        "test_path = \"/content/drive/MyDrive/Colab Notebooks/test_data.json\"\n",
        "\n",
        "# Load the datasets\n",
        "with open(train_path, \"r\", encoding=\"utf-8\") as f:\n",
        "    train_data = json.load(f)\n",
        "\n",
        "with open(val_path, \"r\", encoding=\"utf-8\") as f:\n",
        "    val_data = json.load(f)\n",
        "\n",
        "with open(test_path, \"r\", encoding=\"utf-8\") as f:\n",
        "    test_data = json.load(f)\n",
        "\n",
        "# Print dataset sizes\n",
        "print(f\"Training Set: {len(train_data)} documents\")\n",
        "print(f\"Validation Set: {len(val_data)} documents\")\n",
        "print(f\"Test Set: {len(test_data)} documents\")\n"
      ]
    },
    {
      "cell_type": "markdown",
      "metadata": {
        "id": "JVoCydXOAvuC"
      },
      "source": [
        "Prepare Training Data"
      ]
    },
    {
      "cell_type": "code",
      "execution_count": 44,
      "metadata": {
        "colab": {
          "base_uri": "https://localhost:8080/"
        },
        "id": "QInLubzrA1Jg",
        "outputId": "50f066ea-8481-45df-b3b3-0cb7ec36f880"
      },
      "outputs": [
        {
          "output_type": "stream",
          "name": "stdout",
          "text": [
            "Training examples: 640\n",
            "Validation examples: 159\n"
          ]
        }
      ],
      "source": [
        "from nltk.tokenize import sent_tokenize\n",
        "\n",
        "def prepare_training_data(data):\n",
        "    dataset = []\n",
        "    for doc in data:\n",
        "        document_text = doc[\"Document\"]\n",
        "        summary_text = doc[\"Summary\"]\n",
        "\n",
        "        # Tokenize document into sentences\n",
        "        sentences = sent_tokenize(document_text)\n",
        "\n",
        "        # Label sentences: 1 if in summary, 0 otherwise\n",
        "        labels = [1 if sent in summary_text else 0 for sent in sentences]\n",
        "\n",
        "        for sent, label in zip(sentences, labels):\n",
        "            dataset.append({\"sentence\": sent, \"label\": label})\n",
        "    return dataset\n",
        "\n",
        "# Prepare training and validation datasets\n",
        "train_dataset = prepare_training_data(train_data)\n",
        "val_dataset = prepare_training_data(val_data)\n",
        "\n",
        "print(f\"Training examples: {len(train_dataset)}\")\n",
        "print(f\"Validation examples: {len(val_dataset)}\")\n"
      ]
    },
    {
      "cell_type": "markdown",
      "metadata": {
        "id": "GCOhjaHuBNNb"
      },
      "source": [
        "Convert Data to HuggingFace Dataset"
      ]
    },
    {
      "cell_type": "code",
      "execution_count": 45,
      "metadata": {
        "colab": {
          "base_uri": "https://localhost:8080/"
        },
        "id": "B-QkA6W5BEPE",
        "outputId": "7e97159d-5b0d-4014-df58-cfba82ee4e88"
      },
      "outputs": [
        {
          "output_type": "stream",
          "name": "stdout",
          "text": [
            "Dataset({\n",
            "    features: ['text', 'label'],\n",
            "    num_rows: 640\n",
            "})\n",
            "Dataset({\n",
            "    features: ['text', 'label'],\n",
            "    num_rows: 159\n",
            "})\n"
          ]
        }
      ],
      "source": [
        "from datasets import Dataset\n",
        "\n",
        "# Convert training and validation data to HuggingFace Dataset format\n",
        "train_hf = Dataset.from_dict({\n",
        "    \"text\": [example[\"sentence\"] for example in train_dataset],\n",
        "    \"label\": [example[\"label\"] for example in train_dataset],\n",
        "})\n",
        "\n",
        "val_hf = Dataset.from_dict({\n",
        "    \"text\": [example[\"sentence\"] for example in val_dataset],\n",
        "    \"label\": [example[\"label\"] for example in val_dataset],\n",
        "})\n",
        "\n",
        "print(train_hf)\n",
        "print(val_hf)\n"
      ]
    },
    {
      "cell_type": "markdown",
      "metadata": {
        "id": "8z-CPbWwBSi2"
      },
      "source": [
        "Tokenize the Data"
      ]
    },
    {
      "cell_type": "code",
      "execution_count": 46,
      "metadata": {
        "colab": {
          "base_uri": "https://localhost:8080/",
          "height": 118,
          "referenced_widgets": [
            "2a25e43174f647a7843ece233d20383f",
            "9d20e13ad1974781b000d3a425189e97",
            "ef8fd5b7279b4a0d9376b7808d9344d1",
            "769fa714cf9642d1a39ea71da6959050",
            "ddcdd4a3f94d4cbf996ce51cb5b5f09f",
            "1b91bc2a03474ed2b5ffbd9c6ae74d04",
            "d30f47b9b38548b08d282a446fa2326f",
            "fa24aa87a3d04f0bb4b4cc993d267c86",
            "3da3f4042dd6445981e686ca1ffac829",
            "c1eb36cefe804e68b3898114daaf5b8d",
            "eef3fdaf77b44756b8700e4bca9e7e57",
            "390c677c7a194ffaba29666603fd2421",
            "81ecaa548bd3478292b67a58deaaa0f8",
            "2b4dda3cdcb8478c992f22c6cb78b7d2",
            "f1e39f7642804ba88ae84271e44d7f55",
            "08788f8d8ef243648338be9b87199199",
            "fc96755ffdae4b40b938487a819d10e3",
            "8f0f0a5118a3411499f178f601d50793",
            "dd84aad521cb40c89b4db4d3631bf45a",
            "1721045001d4422a93e1a6f1a2c658cc",
            "fdab25b970ce455a945407bbe1ddd910",
            "e2482600809c4f908db6dc794d68bfb2"
          ]
        },
        "id": "HVpc4kUBBYYK",
        "outputId": "56a626d9-8cba-48b2-95bd-3ee6fe6a4115"
      },
      "outputs": [
        {
          "output_type": "display_data",
          "data": {
            "text/plain": [
              "Map:   0%|          | 0/640 [00:00<?, ? examples/s]"
            ],
            "application/vnd.jupyter.widget-view+json": {
              "version_major": 2,
              "version_minor": 0,
              "model_id": "2a25e43174f647a7843ece233d20383f"
            }
          },
          "metadata": {}
        },
        {
          "output_type": "display_data",
          "data": {
            "text/plain": [
              "Map:   0%|          | 0/159 [00:00<?, ? examples/s]"
            ],
            "application/vnd.jupyter.widget-view+json": {
              "version_major": 2,
              "version_minor": 0,
              "model_id": "390c677c7a194ffaba29666603fd2421"
            }
          },
          "metadata": {}
        },
        {
          "output_type": "stream",
          "name": "stdout",
          "text": [
            "{'text': 'الفازلين هو منتج متعدد الاستخدامات اكتُشف في القرن التاسع عشر، وأصبح من أكثر المنتجات انتشاراً في العالم.', 'label': 0, 'input_ids': [2, 5886, 44353, 186, 583, 8863, 18785, 33635, 1, 305, 2890, 6109, 1292, 103, 7628, 306, 853, 5899, 1, 305, 619, 20, 3, 0, 0, 0, 0, 0, 0, 0, 0, 0, 0, 0, 0, 0, 0, 0, 0, 0, 0, 0, 0, 0, 0, 0, 0, 0, 0, 0, 0, 0, 0, 0, 0, 0, 0, 0, 0, 0, 0, 0, 0, 0, 0, 0, 0, 0, 0, 0, 0, 0, 0, 0, 0, 0, 0, 0, 0, 0, 0, 0, 0, 0, 0, 0, 0, 0, 0, 0, 0, 0, 0, 0, 0, 0, 0, 0, 0, 0, 0, 0, 0, 0, 0, 0, 0, 0, 0, 0, 0, 0, 0, 0, 0, 0, 0, 0, 0, 0, 0, 0, 0, 0, 0, 0, 0, 0, 0, 0, 0, 0, 0, 0, 0, 0, 0, 0, 0], 'token_type_ids': [0, 0, 0, 0, 0, 0, 0, 0, 0, 0, 0, 0, 0, 0, 0, 0, 0, 0, 0, 0, 0, 0, 0, 0, 0, 0, 0, 0, 0, 0, 0, 0, 0, 0, 0, 0, 0, 0, 0, 0, 0, 0, 0, 0, 0, 0, 0, 0, 0, 0, 0, 0, 0, 0, 0, 0, 0, 0, 0, 0, 0, 0, 0, 0, 0, 0, 0, 0, 0, 0, 0, 0, 0, 0, 0, 0, 0, 0, 0, 0, 0, 0, 0, 0, 0, 0, 0, 0, 0, 0, 0, 0, 0, 0, 0, 0, 0, 0, 0, 0, 0, 0, 0, 0, 0, 0, 0, 0, 0, 0, 0, 0, 0, 0, 0, 0, 0, 0, 0, 0, 0, 0, 0, 0, 0, 0, 0, 0, 0, 0, 0, 0, 0, 0, 0, 0, 0, 0, 0], 'attention_mask': [1, 1, 1, 1, 1, 1, 1, 1, 1, 1, 1, 1, 1, 1, 1, 1, 1, 1, 1, 1, 1, 1, 1, 0, 0, 0, 0, 0, 0, 0, 0, 0, 0, 0, 0, 0, 0, 0, 0, 0, 0, 0, 0, 0, 0, 0, 0, 0, 0, 0, 0, 0, 0, 0, 0, 0, 0, 0, 0, 0, 0, 0, 0, 0, 0, 0, 0, 0, 0, 0, 0, 0, 0, 0, 0, 0, 0, 0, 0, 0, 0, 0, 0, 0, 0, 0, 0, 0, 0, 0, 0, 0, 0, 0, 0, 0, 0, 0, 0, 0, 0, 0, 0, 0, 0, 0, 0, 0, 0, 0, 0, 0, 0, 0, 0, 0, 0, 0, 0, 0, 0, 0, 0, 0, 0, 0, 0, 0, 0, 0, 0, 0, 0, 0, 0, 0, 0, 0, 0]}\n"
          ]
        }
      ],
      "source": [
        "from transformers import AutoTokenizer\n",
        "\n",
        "# Load AraBERT tokenizer\n",
        "tokenizer = AutoTokenizer.from_pretrained(\"aubmindlab/bert-base-arabertv02\")\n",
        "\n",
        "# Tokenize the data\n",
        "def tokenize_function(examples):\n",
        "    return tokenizer(examples[\"text\"], truncation=True, padding=True, max_length=512)\n",
        "\n",
        "train_hf = train_hf.map(tokenize_function, batched=True)\n",
        "val_hf = val_hf.map(tokenize_function, batched=True)\n",
        "\n",
        "print(train_hf[0])\n"
      ]
    },
    {
      "cell_type": "markdown",
      "metadata": {
        "id": "5NrFpC-zBgHc"
      },
      "source": [
        "Load AraBERT for Fine-Tuning"
      ]
    },
    {
      "cell_type": "code",
      "execution_count": 47,
      "metadata": {
        "colab": {
          "base_uri": "https://localhost:8080/"
        },
        "id": "lJr9ca4LBlOD",
        "outputId": "20f6ab56-a164-4974-dee0-8899b9a2f60c"
      },
      "outputs": [
        {
          "output_type": "stream",
          "name": "stderr",
          "text": [
            "Some weights of BertForSequenceClassification were not initialized from the model checkpoint at aubmindlab/bert-base-arabertv02 and are newly initialized: ['classifier.bias', 'classifier.weight']\n",
            "You should probably TRAIN this model on a down-stream task to be able to use it for predictions and inference.\n"
          ]
        }
      ],
      "source": [
        "from transformers import AutoModelForSequenceClassification\n",
        "\n",
        "# Load AraBERT pre-trained model for binary classification\n",
        "model = AutoModelForSequenceClassification.from_pretrained(\"aubmindlab/bert-base-arabertv02\", num_labels=2)\n"
      ]
    },
    {
      "cell_type": "code",
      "execution_count": 48,
      "metadata": {
        "colab": {
          "base_uri": "https://localhost:8080/",
          "height": 398
        },
        "id": "MBKo2t3-FYix",
        "outputId": "af47310b-516c-418c-d7fc-4d78e9a4b04e"
      },
      "outputs": [
        {
          "metadata": {
            "tags": null
          },
          "name": "stderr",
          "output_type": "stream",
          "text": [
            "/usr/local/lib/python3.10/dist-packages/transformers/training_args.py:1525: FutureWarning: `evaluation_strategy` is deprecated and will be removed in version 4.46 of 🤗 Transformers. Use `eval_strategy` instead\n",
            "  warnings.warn(\n",
            "Using the `WANDB_DISABLED` environment variable is deprecated and will be removed in v5. Use the --report_to flag to control the integrations used for logging result (for instance --report_to none).\n"
          ]
        },
        {
          "data": {
            "text/html": [
              "\n",
              "    <div>\n",
              "      \n",
              "      <progress value='241' max='240' style='width:300px; height:20px; vertical-align: middle;'></progress>\n",
              "      [240/240 59:06, Epoch 3/3]\n",
              "    </div>\n",
              "    <table border=\"1\" class=\"dataframe\">\n",
              "  <thead>\n",
              " <tr style=\"text-align: left;\">\n",
              "      <th>Epoch</th>\n",
              "      <th>Training Loss</th>\n",
              "      <th>Validation Loss</th>\n",
              "    </tr>\n",
              "  </thead>\n",
              "  <tbody>\n",
              "    <tr>\n",
              "      <td>1</td>\n",
              "      <td>No log</td>\n",
              "      <td>0.000389</td>\n",
              "    </tr>\n",
              "    <tr>\n",
              "      <td>2</td>\n",
              "      <td>No log</td>\n",
              "      <td>0.000195</td>\n",
              "    </tr>\n",
              "  </tbody>\n",
              "</table><p>"
            ],
            "text/plain": [
              "<IPython.core.display.HTML object>"
            ]
          },
          "metadata": {},
          "output_type": "display_data"
        },
        {
          "output_type": "display_data",
          "data": {
            "text/plain": [
              "<IPython.core.display.HTML object>"
            ],
            "text/html": [
              "\n",
              "    <div>\n",
              "      \n",
              "      <progress value='240' max='240' style='width:300px; height:20px; vertical-align: middle;'></progress>\n",
              "      [240/240 1:00:37, Epoch 3/3]\n",
              "    </div>\n",
              "    <table border=\"1\" class=\"dataframe\">\n",
              "  <thead>\n",
              " <tr style=\"text-align: left;\">\n",
              "      <th>Epoch</th>\n",
              "      <th>Training Loss</th>\n",
              "      <th>Validation Loss</th>\n",
              "    </tr>\n",
              "  </thead>\n",
              "  <tbody>\n",
              "    <tr>\n",
              "      <td>1</td>\n",
              "      <td>No log</td>\n",
              "      <td>0.000389</td>\n",
              "    </tr>\n",
              "    <tr>\n",
              "      <td>2</td>\n",
              "      <td>No log</td>\n",
              "      <td>0.000195</td>\n",
              "    </tr>\n",
              "    <tr>\n",
              "      <td>3</td>\n",
              "      <td>No log</td>\n",
              "      <td>0.000158</td>\n",
              "    </tr>\n",
              "  </tbody>\n",
              "</table><p>"
            ]
          },
          "metadata": {}
        },
        {
          "output_type": "execute_result",
          "data": {
            "text/plain": [
              "TrainOutput(global_step=240, training_loss=0.013261889417966207, metrics={'train_runtime': 3674.1452, 'train_samples_per_second': 0.523, 'train_steps_per_second': 0.065, 'total_flos': 137146637606400.0, 'train_loss': 0.013261889417966207, 'epoch': 3.0})"
            ]
          },
          "metadata": {},
          "execution_count": 48
        }
      ],
      "source": [
        "from transformers import TrainingArguments, Trainer\n",
        "import os  # Import the os module\n",
        "# Disable WandB logging\n",
        "os.environ[\"WANDB_DISABLED\"] = \"true\"\n",
        "\n",
        "# Define training arguments\n",
        "training_args = TrainingArguments(\n",
        "    output_dir=\"./results\",\n",
        "    evaluation_strategy=\"epoch\",\n",
        "    learning_rate=2e-5,\n",
        "    per_device_train_batch_size=8,\n",
        "    per_device_eval_batch_size=8,\n",
        "    num_train_epochs=3,\n",
        "    weight_decay=0.01,\n",
        "    logging_dir='./logs',\n",
        "    save_total_limit=2,\n",
        ")\n",
        "\n",
        "# Initialize Trainer\n",
        "trainer = Trainer(\n",
        "    model=model,\n",
        "    args=training_args,\n",
        "    train_dataset=train_hf,\n",
        "    eval_dataset=val_hf,\n",
        "    tokenizer=tokenizer,\n",
        ")\n",
        "\n",
        "# Fine-tune the model\n",
        "trainer.train()\n"
      ]
    },
    {
      "cell_type": "code",
      "source": [
        "trainer.evaluate()\n",
        "\n",
        "\n"
      ],
      "metadata": {
        "colab": {
          "base_uri": "https://localhost:8080/",
          "height": 124
        },
        "id": "Vb0b0PPIzq8C",
        "outputId": "680a5c3b-0e1b-47d5-8053-641f1ffa3e77"
      },
      "execution_count": 49,
      "outputs": [
        {
          "output_type": "display_data",
          "data": {
            "text/plain": [
              "<IPython.core.display.HTML object>"
            ],
            "text/html": [
              "\n",
              "    <div>\n",
              "      \n",
              "      <progress value='20' max='20' style='width:300px; height:20px; vertical-align: middle;'></progress>\n",
              "      [20/20 00:36]\n",
              "    </div>\n",
              "    "
            ]
          },
          "metadata": {}
        },
        {
          "output_type": "execute_result",
          "data": {
            "text/plain": [
              "{'eval_loss': 0.00015759948291815817,\n",
              " 'eval_runtime': 38.6236,\n",
              " 'eval_samples_per_second': 4.117,\n",
              " 'eval_steps_per_second': 0.518,\n",
              " 'epoch': 3.0}"
            ]
          },
          "metadata": {},
          "execution_count": 49
        }
      ]
    },
    {
      "cell_type": "code",
      "source": [
        "trainer.save_model(\"./trained_arabert_model\")\n"
      ],
      "metadata": {
        "id": "4M2SJll8BDJB"
      },
      "execution_count": 58,
      "outputs": []
    },
    {
      "cell_type": "code",
      "source": [
        "# Predict important sentences for test documents\n",
        "def predict_summary(text, num_sentences=3):\n",
        "    sentences = sent_tokenize(text)\n",
        "    inputs = tokenizer(sentences, truncation=True, padding=True, return_tensors=\"pt\", max_length=512)\n",
        "    outputs = model(**inputs)\n",
        "    scores = outputs.logits[:, 1].detach().numpy()  # Importance scores for each sentence\n",
        "    ranked_sentences = [sent for _, sent in sorted(zip(scores, sentences), reverse=True)]\n",
        "    summary = \" \".join(ranked_sentences[:num_sentences])\n",
        "    return summary\n",
        "\n",
        "# Apply to test data\n",
        "for doc in test_data:\n",
        "    doc[\"Generated_Summary\"] = predict_summary(doc[\"Document\"])\n",
        "\n",
        "# Save the results\n",
        "with open(\"/content/drive/MyDrive/Colab Notebooks/test_data.json\", \"w\", encoding=\"utf-8\") as f:\n",
        "    json.dump(test_data, f, ensure_ascii=False, indent=4)\n",
        "\n",
        "print(\"Summaries generated and saved!\")\n"
      ],
      "metadata": {
        "colab": {
          "base_uri": "https://localhost:8080/"
        },
        "id": "mE82VvDZ0u3r",
        "outputId": "fb187c76-2bb2-440b-e57c-1230e4c47776"
      },
      "execution_count": 59,
      "outputs": [
        {
          "output_type": "stream",
          "name": "stdout",
          "text": [
            "Summaries generated and saved!\n"
          ]
        }
      ]
    },
    {
      "cell_type": "code",
      "source": [
        "from rouge import Rouge\n",
        "\n",
        "# Initialize ROUGE scorer\n",
        "rouge = Rouge()\n",
        "\n",
        "# Evaluate the summaries\n",
        "rouge_scores = []\n",
        "for doc in test_data:\n",
        "    reference = doc[\"Summary\"]\n",
        "    generated = doc[\"Generated_Summary\"]\n",
        "    scores = rouge.get_scores(generated, reference)\n",
        "    rouge_scores.append(scores[0])\n",
        "\n",
        "# Calculate average ROUGE scores\n",
        "avg_rouge = {\n",
        "    \"rouge-1\": {\"f\": 0, \"p\": 0, \"r\": 0},\n",
        "    \"rouge-2\": {\"f\": 0, \"p\": 0, \"r\": 0},\n",
        "    \"rouge-l\": {\"f\": 0, \"p\": 0, \"r\": 0},\n",
        "}\n",
        "for score in rouge_scores:\n",
        "    for key in avg_rouge.keys():\n",
        "        for metric in avg_rouge[key].keys():\n",
        "            avg_rouge[key][metric] += score[key][metric]\n",
        "\n",
        "num_docs = len(rouge_scores)\n",
        "for key in avg_rouge.keys():\n",
        "    for metric in avg_rouge[key].keys():\n",
        "        avg_rouge[key][metric] /= num_docs\n",
        "\n",
        "print(\"Average ROUGE Scores:\", avg_rouge)\n"
      ],
      "metadata": {
        "colab": {
          "base_uri": "https://localhost:8080/"
        },
        "id": "Z7lZChd_BGY5",
        "outputId": "af0a6c53-5f98-4e88-966c-92df5ab44cf4"
      },
      "execution_count": 63,
      "outputs": [
        {
          "output_type": "stream",
          "name": "stdout",
          "text": [
            "Average ROUGE Scores: {'rouge-1': {'f': 0.16467146181995518, 'p': 0.11652638774215586, 'r': 0.32206040627712457}, 'rouge-2': {'f': 0.05528585917129778, 'p': 0.03966994413500239, 'r': 0.1050708654357635}, 'rouge-l': {'f': 0.1520136517008441, 'p': 0.10791581725693289, 'r': 0.2942200701426707}}\n"
          ]
        }
      ]
    },
    {
      "cell_type": "markdown",
      "source": [
        "2. BART Model"
      ],
      "metadata": {
        "id": "O2yErImGektk"
      }
    },
    {
      "cell_type": "code",
      "source": [
        "# 1. BART Setup\n",
        "\n",
        "from transformers import BartTokenizer, BartForConditionalGeneration\n",
        "from datasets import Dataset\n",
        "import json\n",
        "\n",
        "# Load the dataset from Google Drive\n",
        "file_path = \"/content/drive/MyDrive/Colab Notebooks/ArabicDataSet.json\"  # Adjust the path if needed\n",
        "with open(file_path, \"r\", encoding=\"utf-8\") as f:\n",
        "    data = json.load(f)\n",
        "\n",
        "# Print total number of documents and a sample document\n",
        "print(f\"Total documents loaded: {len(data)}\")\n",
        "print(\"Sample document:\", data[0])  # Display the first document\n",
        "\n",
        "# Convert to HuggingFace Dataset format (based on your dataset structure)\n",
        "dataset = Dataset.from_dict({\n",
        "    \"input\": [doc[\"Document\"] for doc in data],  # Assuming your data has a \"Document\" field\n",
        "    \"target\": [doc[\"Summary\"] for doc in data],  # Assuming your data has a \"Summary\" field\n",
        "})\n",
        "\n",
        "# Load the tokenizer and model for BART\n",
        "bart_tokenizer = BartTokenizer.from_pretrained('facebook/bart-large-cnn')\n",
        "bart_model = BartForConditionalGeneration.from_pretrained('facebook/bart-large-cnn')\n",
        "\n",
        "# Tokenization function for BART\n",
        "def tokenize_bart(examples):\n",
        "    model_inputs = bart_tokenizer(examples[\"input\"], truncation=True, padding=\"max_length\", max_length=512)\n",
        "    labels = bart_tokenizer(examples[\"target\"], truncation=True, padding=\"max_length\", max_length=150)\n",
        "    model_inputs[\"labels\"] = labels[\"input_ids\"]\n",
        "    return model_inputs\n",
        "\n",
        "# Apply the tokenization function to the dataset\n",
        "train_hf_bart = dataset.map(tokenize_bart, batched=True)\n",
        "\n",
        "# Check the first tokenized example for BART\n",
        "print(\"BART Example:\", train_hf_bart[0])\n",
        "\n",
        "# Model Evaluation for BART (simple inference, for example)\n",
        "inputs = bart_tokenizer(\"This is the input text for BART.\", return_tensors=\"pt\", truncation=True, padding=\"max_length\", max_length=512)\n",
        "summary_ids = bart_model.generate(inputs[\"input_ids\"], max_length=150, num_beams=4, early_stopping=True)\n",
        "\n",
        "# Decode and print the result\n",
        "bart_summary = bart_tokenizer.decode(summary_ids[0], skip_special_tokens=True)\n",
        "print(\"BART Summary:\", bart_summary)\n"
      ],
      "metadata": {
        "colab": {
          "base_uri": "https://localhost:8080/",
          "height": 138,
          "referenced_widgets": [
            "63f770f372e14f6090636098426c1582",
            "a3110302498d4beab9a478e5fa2cf2dd",
            "d6a0380a55734a44a5e81782261cfd21",
            "175f470e9adc46a5902a9c04dc3db00f",
            "99acab3d944b42e3986258bb3aafffe6",
            "a7c7d1bb2c54424898291df6015ff364",
            "21d5edbbbaa0408aa9ac0097ae1c2ad0",
            "13ae5cae38494f50b54fcac7c8595901",
            "6e62e44d4ce148fc954865aafcc70115",
            "59564856da8e4276bd7a9e3af4178203",
            "927871a3705e4062a4b6eb4bc412695f"
          ]
        },
        "id": "mdCp49h7edaT",
        "outputId": "6c231f68-4536-4256-81b5-5331a09ec3d3"
      },
      "execution_count": 75,
      "outputs": [
        {
          "output_type": "stream",
          "name": "stdout",
          "text": [
            "Total documents loaded: 158\n",
            "Sample document: {'ID': 1, 'Document': 'الأكل الصحي يُعتبر جزءًا أساسيًا من نمط الحياة المتوازن. تناول الأطعمة الغنية بالفيتامينات والمعادن، مثل الخضروات والفواكه، يُعزز الصحة العامة ويُقلل من مخاطر الأمراض. الأطعمة الغنية بالألياف تُساعد على تحسين الهضم، بينما يُساهم تناول البروتينات الصحية في بناء العضلات وتقوية الجسم. الابتعاد عن الأطعمة المصنعة والمشبعة بالدهون يُساهم في تقليل مستويات الكوليسترول في الدم. تحقيق التوازن بين أنواع الطعام المختلفة، بالإضافة إلى شرب الماء بكميات كافية، يضمن الحفاظ على طاقة الجسم طوال اليوم.', 'Summary': 'الأكل الصحي يُعزز الصحة العامة ويُقلل من مخاطر الأمراض.', 'Category': 'Short', 'Topic': 'فوائد الأكل الصحي', 'Split': 'Train'}\n"
          ]
        },
        {
          "output_type": "display_data",
          "data": {
            "text/plain": [
              "Map:   0%|          | 0/158 [00:00<?, ? examples/s]"
            ],
            "application/vnd.jupyter.widget-view+json": {
              "version_major": 2,
              "version_minor": 0,
              "model_id": "63f770f372e14f6090636098426c1582"
            }
          },
          "metadata": {}
        },
        {
          "output_type": "stream",
          "name": "stdout",
          "text": [
            "BART Example: {'input': 'الأكل الصحي يُعتبر جزءًا أساسيًا من نمط الحياة المتوازن. تناول الأطعمة الغنية بالفيتامينات والمعادن، مثل الخضروات والفواكه، يُعزز الصحة العامة ويُقلل من مخاطر الأمراض. الأطعمة الغنية بالألياف تُساعد على تحسين الهضم، بينما يُساهم تناول البروتينات الصحية في بناء العضلات وتقوية الجسم. الابتعاد عن الأطعمة المصنعة والمشبعة بالدهون يُساهم في تقليل مستويات الكوليسترول في الدم. تحقيق التوازن بين أنواع الطعام المختلفة، بالإضافة إلى شرب الماء بكميات كافية، يضمن الحفاظ على طاقة الجسم طوال اليوم.', 'target': 'الأكل الصحي يُعزز الصحة العامة ويُقلل من مخاطر الأمراض.', 'input_ids': [0, 43321, 21593, 2469, 26068, 862, 30992, 32681, 21593, 8906, 21593, 12410, 26174, 36963, 27969, 26068, 9357, 41688, 38605, 41117, 29434, 25790, 11582, 21593, 14292, 21593, 5543, 26068, 13859, 29438, 25790, 2469, 40637, 34955, 15264, 26174, 26068, 13859, 29438, 42620, 31746, 36963, 27819, 33070, 21593, 18400, 32681, 21593, 12410, 26174, 34955, 15375, 32681, 33070, 38605, 33866, 34955, 14292, 31746, 4, 25790, 10278, 31746, 29438, 33866, 30992, 32681, 21593, 2469, 21593, 18400, 41688, 33070, 38419, 32681, 21593, 3070, 31746, 26174, 38419, 25790, 11423, 43321, 26068, 10172, 26174, 38605, 29438, 33070, 26174, 31746, 34955, 10278, 41519, 43321, 33070, 41688, 34955, 10965, 31746, 21593, 14285, 42620, 21593, 4958, 30992, 32681, 21593, 2840, 21593, 19002, 29434, 33866, 34955, 10278, 41519, 43321, 26068, 10172, 33866, 29438, 26068, 862, 39942, 21593, 14285, 36963, 27969, 26068, 9357, 41688, 21593, 14292, 21593, 14292, 32681, 21593, 8906, 21593, 12410, 38419, 32681, 41688, 29438, 33070, 38419, 41519, 26174, 26068, 9357, 26068, 9264, 30992, 30992, 42620, 31746, 42620, 21593, 2840, 34955, 18400, 29434, 32681, 21593, 2469, 33070, 29434, 34955, 19002, 4, 32681, 21593, 2469, 21593, 18400, 41688, 33070, 38419, 32681, 21593, 3070, 31746, 26174, 38419, 25790, 11423, 43321, 21593, 2469, 30992, 26174, 29438, 26068, 10172, 25790, 10278, 26068, 9357, 40637, 34955, 9253, 39004, 25790, 9253, 30992, 26068, 23171, 25790, 10278, 21593, 12410, 40637, 26174, 31746, 32681, 39942, 21593, 19002, 33070, 21593, 14285, 25790, 11423, 26174, 31746, 33070, 29438, 36963, 27969, 26068, 9357, 40637, 29438, 39942, 33070, 25790, 10278, 31746, 29438, 33866, 30992, 32681, 41117, 29434, 33866, 38605, 26174, 31746, 34955, 10278, 32681, 21593, 8906, 21593, 12410, 26174, 38419, 36963, 10172, 26174, 25790, 11423, 31746, 34955, 5543, 32681, 41688, 21593, 19002, 30992, 34955, 10278, 41519, 38605, 26068, 9264, 33866, 26174, 38419, 32681, 21593, 11582, 40637, 33070, 4, 32681, 34955, 11423, 38605, 41688, 34955, 10965, 25790, 9253, 31746, 32681, 21593, 2469, 21593, 18400, 41688, 33070, 38419, 32681, 33070, 21593, 8906, 31746, 41688, 38419, 41519, 43321, 33070, 21593, 20024, 41117, 41688, 38419, 25790, 11423, 43321, 39004, 39942, 33866, 31746, 36963, 27969, 26068, 9357, 40637, 29438, 39942, 33070, 36963, 10172, 26174, 25790, 10278, 26068, 9264, 30992, 26174, 30992, 42620, 40637, 38605, 33866, 26174, 34955, 10278, 32681, 26068, 862, 33866, 30992, 26174, 40637, 38605, 29434, 33866, 30992, 36963, 10172, 26174, 32681, 39004, 33070, 4, 25790, 10278, 21593, 12410, 26068, 9264, 26174, 26068, 9264, 32681, 38605, 33866, 34955, 14292, 31746, 25790, 11423, 26174, 31746, 25790, 2469, 31746, 33866, 34955, 9253, 32681, 21593, 18400, 41688, 29438, 33070, 32681, 33070, 21593, 2840, 38605, 30992, 26068, 10172, 38419, 21593, 14285, 25790, 11423, 43321, 21593, 8210, 21593, 19002, 29438, 26068, 10172, 38419, 25790, 8210, 30992, 26068, 23171, 25790, 20024, 29434, 41117, 32681, 33070, 34955, 5543, 25790, 11423, 26068, 862, 33070, 26174, 34955, 10278, 36963, 862, 29438, 26068, 10172, 26174, 38419, 21593, 14285, 36963, 27969, 21593, 19002, 33070, 31746, 32681, 21593, 12410, 26068, 10172, 34955, 18537, 25790, 9253, 30992, 26068, 23171, 25790, 18400, 29438, 26068, 9264, 38419, 32681, 21593, 11582, 40637, 33070, 25790, 18400, 33866, 43321, 32681, 26174, 33866, 33070, 4, 2, 1, 1, 1, 1, 1, 1, 1, 1, 1, 1, 1, 1, 1, 1, 1, 1, 1, 1, 1, 1, 1, 1], 'attention_mask': [1, 1, 1, 1, 1, 1, 1, 1, 1, 1, 1, 1, 1, 1, 1, 1, 1, 1, 1, 1, 1, 1, 1, 1, 1, 1, 1, 1, 1, 1, 1, 1, 1, 1, 1, 1, 1, 1, 1, 1, 1, 1, 1, 1, 1, 1, 1, 1, 1, 1, 1, 1, 1, 1, 1, 1, 1, 1, 1, 1, 1, 1, 1, 1, 1, 1, 1, 1, 1, 1, 1, 1, 1, 1, 1, 1, 1, 1, 1, 1, 1, 1, 1, 1, 1, 1, 1, 1, 1, 1, 1, 1, 1, 1, 1, 1, 1, 1, 1, 1, 1, 1, 1, 1, 1, 1, 1, 1, 1, 1, 1, 1, 1, 1, 1, 1, 1, 1, 1, 1, 1, 1, 1, 1, 1, 1, 1, 1, 1, 1, 1, 1, 1, 1, 1, 1, 1, 1, 1, 1, 1, 1, 1, 1, 1, 1, 1, 1, 1, 1, 1, 1, 1, 1, 1, 1, 1, 1, 1, 1, 1, 1, 1, 1, 1, 1, 1, 1, 1, 1, 1, 1, 1, 1, 1, 1, 1, 1, 1, 1, 1, 1, 1, 1, 1, 1, 1, 1, 1, 1, 1, 1, 1, 1, 1, 1, 1, 1, 1, 1, 1, 1, 1, 1, 1, 1, 1, 1, 1, 1, 1, 1, 1, 1, 1, 1, 1, 1, 1, 1, 1, 1, 1, 1, 1, 1, 1, 1, 1, 1, 1, 1, 1, 1, 1, 1, 1, 1, 1, 1, 1, 1, 1, 1, 1, 1, 1, 1, 1, 1, 1, 1, 1, 1, 1, 1, 1, 1, 1, 1, 1, 1, 1, 1, 1, 1, 1, 1, 1, 1, 1, 1, 1, 1, 1, 1, 1, 1, 1, 1, 1, 1, 1, 1, 1, 1, 1, 1, 1, 1, 1, 1, 1, 1, 1, 1, 1, 1, 1, 1, 1, 1, 1, 1, 1, 1, 1, 1, 1, 1, 1, 1, 1, 1, 1, 1, 1, 1, 1, 1, 1, 1, 1, 1, 1, 1, 1, 1, 1, 1, 1, 1, 1, 1, 1, 1, 1, 1, 1, 1, 1, 1, 1, 1, 1, 1, 1, 1, 1, 1, 1, 1, 1, 1, 1, 1, 1, 1, 1, 1, 1, 1, 1, 1, 1, 1, 1, 1, 1, 1, 1, 1, 1, 1, 1, 1, 1, 1, 1, 1, 1, 1, 1, 1, 1, 1, 1, 1, 1, 1, 1, 1, 1, 1, 1, 1, 1, 1, 1, 1, 1, 1, 1, 1, 1, 1, 1, 1, 1, 1, 1, 1, 1, 1, 1, 1, 1, 1, 1, 1, 1, 1, 1, 1, 1, 1, 1, 1, 1, 1, 1, 1, 1, 1, 1, 1, 1, 1, 1, 1, 1, 1, 1, 1, 1, 1, 1, 1, 1, 1, 1, 1, 1, 1, 1, 1, 1, 1, 1, 1, 1, 1, 1, 1, 1, 1, 1, 1, 1, 1, 1, 1, 1, 1, 1, 1, 1, 1, 1, 1, 1, 1, 1, 1, 1, 1, 1, 1, 1, 1, 0, 0, 0, 0, 0, 0, 0, 0, 0, 0, 0, 0, 0, 0, 0, 0, 0, 0, 0, 0, 0, 0], 'labels': [0, 43321, 21593, 2469, 26068, 862, 30992, 32681, 21593, 8906, 21593, 12410, 26174, 36963, 27969, 26068, 9357, 41688, 21593, 14292, 21593, 14292, 32681, 21593, 8906, 21593, 12410, 38419, 32681, 41688, 29438, 33070, 38419, 41519, 26174, 26068, 9357, 26068, 9264, 30992, 30992, 42620, 31746, 42620, 21593, 2840, 34955, 18400, 29434, 32681, 21593, 2469, 33070, 29434, 34955, 19002, 4, 2, 1, 1, 1, 1, 1, 1, 1, 1, 1, 1, 1, 1, 1, 1, 1, 1, 1, 1, 1, 1, 1, 1, 1, 1, 1, 1, 1, 1, 1, 1, 1, 1, 1, 1, 1, 1, 1, 1, 1, 1, 1, 1, 1, 1, 1, 1, 1, 1, 1, 1, 1, 1, 1, 1, 1, 1, 1, 1, 1, 1, 1, 1, 1, 1, 1, 1, 1, 1, 1, 1, 1, 1, 1, 1, 1, 1, 1, 1, 1, 1, 1, 1, 1, 1, 1, 1, 1, 1, 1, 1, 1, 1]}\n",
            "BART Summary: This is the input text for BART. Use this text to help people with reading comprehension and vocabulary. Use the weekly Newsquiz to test your knowledge of stories you saw on CNN.com and the iReport.com newsquiz. For more information on BART, visit the BART website.\n"
          ]
        }
      ]
    },
    {
      "cell_type": "code",
      "source": [
        "from rouge import Rouge\n",
        "\n",
        "# Initialize ROUGE scorer\n",
        "rouge = Rouge()\n",
        "\n",
        "# Evaluate the summaries\n",
        "rouge_scores = []\n",
        "for doc in test_data:\n",
        "    reference = doc[\"Summary\"]\n",
        "    generated = doc[\"Generated_Summary\"]\n",
        "    scores = rouge.get_scores(generated, reference)\n",
        "    rouge_scores.append(scores[0])\n",
        "\n",
        "# Calculate average ROUGE scores\n",
        "avg_rouge = {\n",
        "    \"rouge-1\": {\"f\": 0, \"p\": 0, \"r\": 0},\n",
        "    \"rouge-2\": {\"f\": 0, \"p\": 0, \"r\": 0},\n",
        "    \"rouge-l\": {\"f\": 0, \"p\": 0, \"r\": 0},\n",
        "}\n",
        "for score in rouge_scores:\n",
        "    for key in avg_rouge.keys():\n",
        "        for metric in avg_rouge[key].keys():\n",
        "            avg_rouge[key][metric] += score[key][metric]\n",
        "\n",
        "num_docs = len(rouge_scores)\n",
        "for key in avg_rouge.keys():\n",
        "    for metric in avg_rouge[key].keys():\n",
        "        avg_rouge[key][metric] /= num_docs\n",
        "\n",
        "print(\"Average ROUGE Scores:\", avg_rouge)\n"
      ],
      "metadata": {
        "colab": {
          "base_uri": "https://localhost:8080/"
        },
        "id": "AmJNlbbJD4s2",
        "outputId": "6c769aa4-815e-4dfa-c560-0cce9c629734"
      },
      "execution_count": 76,
      "outputs": [
        {
          "output_type": "stream",
          "name": "stdout",
          "text": [
            "Average ROUGE Scores: {'rouge-1': {'f': 0.16467146181995518, 'p': 0.11652638774215586, 'r': 0.32206040627712457}, 'rouge-2': {'f': 0.05528585917129778, 'p': 0.03966994413500239, 'r': 0.1050708654357635}, 'rouge-l': {'f': 0.1520136517008441, 'p': 0.10791581725693289, 'r': 0.2942200701426707}}\n"
          ]
        }
      ]
    },
    {
      "cell_type": "markdown",
      "source": [
        "3. T5 Model"
      ],
      "metadata": {
        "id": "7trs-2SHet03"
      }
    },
    {
      "cell_type": "code",
      "source": [
        "# 2. T5 Setup\n",
        "\n",
        "from transformers import T5Tokenizer, T5ForConditionalGeneration\n",
        "from datasets import Dataset\n",
        "import json\n",
        "\n",
        "# Load the dataset from Google Drive\n",
        "file_path = \"/content/drive/MyDrive/Colab Notebooks/ArabicDataSet.json\"  # Adjust the path if needed\n",
        "with open(file_path, \"r\", encoding=\"utf-8\") as f:\n",
        "    data = json.load(f)\n",
        "\n",
        "# Print total number of documents and a sample document\n",
        "print(f\"Total documents loaded: {len(data)}\")\n",
        "print(\"Sample document:\", data[0])  # Display the first document\n",
        "\n",
        "# Convert to HuggingFace Dataset format (based on your dataset structure)\n",
        "dataset = Dataset.from_dict({\n",
        "    \"input\": [doc[\"Document\"] for doc in data],  # Assuming your data has a \"Document\" field\n",
        "    \"target\": [doc[\"Summary\"] for doc in data],  # Assuming your data has a \"Summary\" field\n",
        "})\n",
        "\n",
        "# Load the tokenizer and model for T5\n",
        "t5_tokenizer = T5Tokenizer.from_pretrained(\"t5-small\")\n",
        "t5_model = T5ForConditionalGeneration.from_pretrained(\"t5-small\")\n",
        "\n",
        "# Tokenization function for T5\n",
        "def tokenize_t5(examples):\n",
        "    model_inputs = t5_tokenizer(examples[\"input\"], truncation=True, padding=\"max_length\", max_length=512)\n",
        "    labels = t5_tokenizer(examples[\"target\"], truncation=True, padding=\"max_length\", max_length=150)\n",
        "    model_inputs[\"labels\"] = labels[\"input_ids\"]\n",
        "    return model_inputs\n",
        "\n",
        "# Apply the tokenization function to the dataset\n",
        "train_hf_t5 = dataset.map(tokenize_t5, batched=True)\n",
        "\n",
        "# Check the first tokenized example for T5\n",
        "print(\"T5 Example:\", train_hf_t5[0])\n",
        "\n",
        "# Model Evaluation for T5 (simple inference, for example)\n",
        "inputs = t5_tokenizer(\"This is the input text for T5.\", return_tensors=\"pt\", truncation=True, padding=\"max_length\", max_length=512)\n",
        "summary_ids = t5_model.generate(inputs[\"input_ids\"], max_length=150, num_beams=4, early_stopping=True)\n",
        "\n",
        "# Decode and print the result\n",
        "t5_summary = t5_tokenizer.decode(summary_ids[0], skip_special_tokens=True)\n",
        "print(\"T5 Summary:\", t5_summary)\n"
      ],
      "metadata": {
        "colab": {
          "base_uri": "https://localhost:8080/",
          "height": 138,
          "referenced_widgets": [
            "7cea99a7fe8d49a191c88e62374fd749",
            "b1e48166abca43c18964c8561bbaafca",
            "0511ebb4428642f5ac7bfd6afe124d88",
            "551eb7877b9e4b469b67e784f75119a0",
            "1ad08d16f5d14f29a028175a67b50f02",
            "0c7dfeb6c09e42588583b29ea265726d",
            "cfef29a7982a4f229ccfa15a9e673022",
            "68fbfddecc93411ebb5bdb0bcb3cf7d3",
            "8cc37cdf131e4feaae8f1dc3af713488",
            "069ead6713b14555bba9ff72b660c88c",
            "ee079c3ac8c1488994eaa2b1dcf6d703"
          ]
        },
        "id": "7wahQH-bef9X",
        "outputId": "0e9edcd0-f901-41c4-cf64-81749c4dfd42"
      },
      "execution_count": 77,
      "outputs": [
        {
          "output_type": "stream",
          "name": "stdout",
          "text": [
            "Total documents loaded: 158\n",
            "Sample document: {'ID': 1, 'Document': 'الأكل الصحي يُعتبر جزءًا أساسيًا من نمط الحياة المتوازن. تناول الأطعمة الغنية بالفيتامينات والمعادن، مثل الخضروات والفواكه، يُعزز الصحة العامة ويُقلل من مخاطر الأمراض. الأطعمة الغنية بالألياف تُساعد على تحسين الهضم، بينما يُساهم تناول البروتينات الصحية في بناء العضلات وتقوية الجسم. الابتعاد عن الأطعمة المصنعة والمشبعة بالدهون يُساهم في تقليل مستويات الكوليسترول في الدم. تحقيق التوازن بين أنواع الطعام المختلفة، بالإضافة إلى شرب الماء بكميات كافية، يضمن الحفاظ على طاقة الجسم طوال اليوم.', 'Summary': 'الأكل الصحي يُعزز الصحة العامة ويُقلل من مخاطر الأمراض.', 'Category': 'Short', 'Topic': 'فوائد الأكل الصحي', 'Split': 'Train'}\n"
          ]
        },
        {
          "output_type": "display_data",
          "data": {
            "text/plain": [
              "Map:   0%|          | 0/158 [00:00<?, ? examples/s]"
            ],
            "application/vnd.jupyter.widget-view+json": {
              "version_major": 2,
              "version_minor": 0,
              "model_id": "7cea99a7fe8d49a191c88e62374fd749"
            }
          },
          "metadata": {}
        },
        {
          "output_type": "stream",
          "name": "stdout",
          "text": [
            "T5 Example: {'input': 'الأكل الصحي يُعتبر جزءًا أساسيًا من نمط الحياة المتوازن. تناول الأطعمة الغنية بالفيتامينات والمعادن، مثل الخضروات والفواكه، يُعزز الصحة العامة ويُقلل من مخاطر الأمراض. الأطعمة الغنية بالألياف تُساعد على تحسين الهضم، بينما يُساهم تناول البروتينات الصحية في بناء العضلات وتقوية الجسم. الابتعاد عن الأطعمة المصنعة والمشبعة بالدهون يُساهم في تقليل مستويات الكوليسترول في الدم. تحقيق التوازن بين أنواع الطعام المختلفة، بالإضافة إلى شرب الماء بكميات كافية، يضمن الحفاظ على طاقة الجسم طوال اليوم.', 'target': 'الأكل الصحي يُعزز الصحة العامة ويُقلل من مخاطر الأمراض.', 'input_ids': [3, 2, 3, 2, 3, 2, 3, 2, 3, 2, 3, 2, 3, 2, 3, 2, 3, 2, 5, 3, 2, 3, 2, 3, 2, 3, 2, 3, 2, 3, 2, 3, 2, 3, 2, 3, 2, 3, 2, 3, 2, 3, 2, 3, 2, 3, 2, 3, 2, 5, 3, 2, 3, 2, 3, 2, 3, 2, 3, 2, 3, 2, 3, 2, 3, 2, 3, 2, 3, 2, 3, 2, 3, 2, 3, 2, 3, 2, 3, 2, 3, 2, 3, 2, 5, 3, 2, 3, 2, 3, 2, 3, 2, 3, 2, 3, 2, 3, 2, 3, 2, 3, 2, 3, 2, 3, 2, 3, 2, 3, 2, 5, 3, 2, 3, 2, 3, 2, 3, 2, 3, 2, 3, 2, 3, 2, 3, 2, 3, 2, 3, 2, 3, 2, 3, 2, 3, 2, 3, 2, 3, 2, 3, 2, 3, 2, 3, 2, 3, 2, 5, 1, 0, 0, 0, 0, 0, 0, 0, 0, 0, 0, 0, 0, 0, 0, 0, 0, 0, 0, 0, 0, 0, 0, 0, 0, 0, 0, 0, 0, 0, 0, 0, 0, 0, 0, 0, 0, 0, 0, 0, 0, 0, 0, 0, 0, 0, 0, 0, 0, 0, 0, 0, 0, 0, 0, 0, 0, 0, 0, 0, 0, 0, 0, 0, 0, 0, 0, 0, 0, 0, 0, 0, 0, 0, 0, 0, 0, 0, 0, 0, 0, 0, 0, 0, 0, 0, 0, 0, 0, 0, 0, 0, 0, 0, 0, 0, 0, 0, 0, 0, 0, 0, 0, 0, 0, 0, 0, 0, 0, 0, 0, 0, 0, 0, 0, 0, 0, 0, 0, 0, 0, 0, 0, 0, 0, 0, 0, 0, 0, 0, 0, 0, 0, 0, 0, 0, 0, 0, 0, 0, 0, 0, 0, 0, 0, 0, 0, 0, 0, 0, 0, 0, 0, 0, 0, 0, 0, 0, 0, 0, 0, 0, 0, 0, 0, 0, 0, 0, 0, 0, 0, 0, 0, 0, 0, 0, 0, 0, 0, 0, 0, 0, 0, 0, 0, 0, 0, 0, 0, 0, 0, 0, 0, 0, 0, 0, 0, 0, 0, 0, 0, 0, 0, 0, 0, 0, 0, 0, 0, 0, 0, 0, 0, 0, 0, 0, 0, 0, 0, 0, 0, 0, 0, 0, 0, 0, 0, 0, 0, 0, 0, 0, 0, 0, 0, 0, 0, 0, 0, 0, 0, 0, 0, 0, 0, 0, 0, 0, 0, 0, 0, 0, 0, 0, 0, 0, 0, 0, 0, 0, 0, 0, 0, 0, 0, 0, 0, 0, 0, 0, 0, 0, 0, 0, 0, 0, 0, 0, 0, 0, 0, 0, 0, 0, 0, 0, 0, 0, 0, 0, 0, 0, 0, 0, 0, 0, 0, 0, 0, 0, 0, 0, 0, 0, 0, 0, 0, 0, 0, 0, 0, 0, 0, 0, 0, 0, 0, 0, 0, 0, 0, 0, 0, 0, 0, 0, 0, 0, 0, 0, 0, 0, 0, 0, 0, 0, 0, 0, 0, 0, 0, 0, 0, 0, 0, 0, 0, 0, 0, 0, 0, 0, 0, 0, 0, 0, 0, 0, 0, 0, 0], 'attention_mask': [1, 1, 1, 1, 1, 1, 1, 1, 1, 1, 1, 1, 1, 1, 1, 1, 1, 1, 1, 1, 1, 1, 1, 1, 1, 1, 1, 1, 1, 1, 1, 1, 1, 1, 1, 1, 1, 1, 1, 1, 1, 1, 1, 1, 1, 1, 1, 1, 1, 1, 1, 1, 1, 1, 1, 1, 1, 1, 1, 1, 1, 1, 1, 1, 1, 1, 1, 1, 1, 1, 1, 1, 1, 1, 1, 1, 1, 1, 1, 1, 1, 1, 1, 1, 1, 1, 1, 1, 1, 1, 1, 1, 1, 1, 1, 1, 1, 1, 1, 1, 1, 1, 1, 1, 1, 1, 1, 1, 1, 1, 1, 1, 1, 1, 1, 1, 1, 1, 1, 1, 1, 1, 1, 1, 1, 1, 1, 1, 1, 1, 1, 1, 1, 1, 1, 1, 1, 1, 1, 1, 1, 1, 1, 1, 1, 1, 1, 1, 1, 1, 1, 1, 0, 0, 0, 0, 0, 0, 0, 0, 0, 0, 0, 0, 0, 0, 0, 0, 0, 0, 0, 0, 0, 0, 0, 0, 0, 0, 0, 0, 0, 0, 0, 0, 0, 0, 0, 0, 0, 0, 0, 0, 0, 0, 0, 0, 0, 0, 0, 0, 0, 0, 0, 0, 0, 0, 0, 0, 0, 0, 0, 0, 0, 0, 0, 0, 0, 0, 0, 0, 0, 0, 0, 0, 0, 0, 0, 0, 0, 0, 0, 0, 0, 0, 0, 0, 0, 0, 0, 0, 0, 0, 0, 0, 0, 0, 0, 0, 0, 0, 0, 0, 0, 0, 0, 0, 0, 0, 0, 0, 0, 0, 0, 0, 0, 0, 0, 0, 0, 0, 0, 0, 0, 0, 0, 0, 0, 0, 0, 0, 0, 0, 0, 0, 0, 0, 0, 0, 0, 0, 0, 0, 0, 0, 0, 0, 0, 0, 0, 0, 0, 0, 0, 0, 0, 0, 0, 0, 0, 0, 0, 0, 0, 0, 0, 0, 0, 0, 0, 0, 0, 0, 0, 0, 0, 0, 0, 0, 0, 0, 0, 0, 0, 0, 0, 0, 0, 0, 0, 0, 0, 0, 0, 0, 0, 0, 0, 0, 0, 0, 0, 0, 0, 0, 0, 0, 0, 0, 0, 0, 0, 0, 0, 0, 0, 0, 0, 0, 0, 0, 0, 0, 0, 0, 0, 0, 0, 0, 0, 0, 0, 0, 0, 0, 0, 0, 0, 0, 0, 0, 0, 0, 0, 0, 0, 0, 0, 0, 0, 0, 0, 0, 0, 0, 0, 0, 0, 0, 0, 0, 0, 0, 0, 0, 0, 0, 0, 0, 0, 0, 0, 0, 0, 0, 0, 0, 0, 0, 0, 0, 0, 0, 0, 0, 0, 0, 0, 0, 0, 0, 0, 0, 0, 0, 0, 0, 0, 0, 0, 0, 0, 0, 0, 0, 0, 0, 0, 0, 0, 0, 0, 0, 0, 0, 0, 0, 0, 0, 0, 0, 0, 0, 0, 0, 0, 0, 0, 0, 0, 0, 0, 0, 0, 0, 0, 0, 0, 0, 0, 0, 0, 0, 0, 0, 0, 0, 0, 0, 0, 0, 0, 0, 0, 0, 0, 0, 0, 0, 0, 0, 0, 0], 'labels': [3, 2, 3, 2, 3, 2, 3, 2, 3, 2, 3, 2, 3, 2, 3, 2, 3, 2, 5, 1, 0, 0, 0, 0, 0, 0, 0, 0, 0, 0, 0, 0, 0, 0, 0, 0, 0, 0, 0, 0, 0, 0, 0, 0, 0, 0, 0, 0, 0, 0, 0, 0, 0, 0, 0, 0, 0, 0, 0, 0, 0, 0, 0, 0, 0, 0, 0, 0, 0, 0, 0, 0, 0, 0, 0, 0, 0, 0, 0, 0, 0, 0, 0, 0, 0, 0, 0, 0, 0, 0, 0, 0, 0, 0, 0, 0, 0, 0, 0, 0, 0, 0, 0, 0, 0, 0, 0, 0, 0, 0, 0, 0, 0, 0, 0, 0, 0, 0, 0, 0, 0, 0, 0, 0, 0, 0, 0, 0, 0, 0, 0, 0, 0, 0, 0, 0, 0, 0, 0, 0, 0, 0, 0, 0, 0, 0, 0, 0, 0, 0]}\n",
            "T5 Summary: Dies is the input text for T5.\n"
          ]
        }
      ]
    },
    {
      "cell_type": "code",
      "source": [
        "from rouge import Rouge\n",
        "\n",
        "# Initialize ROUGE scorer\n",
        "rouge = Rouge()\n",
        "\n",
        "# Evaluate the summaries\n",
        "rouge_scores = []\n",
        "for doc in test_data:\n",
        "    reference = doc[\"Summary\"]\n",
        "    generated = doc[\"Generated_Summary\"]\n",
        "    scores = rouge.get_scores(generated, reference)\n",
        "    rouge_scores.append(scores[0])\n",
        "\n",
        "# Calculate average ROUGE scores\n",
        "avg_rouge = {\n",
        "    \"rouge-1\": {\"f\": 0, \"p\": 0, \"r\": 0},\n",
        "    \"rouge-2\": {\"f\": 0, \"p\": 0, \"r\": 0},\n",
        "    \"rouge-l\": {\"f\": 0, \"p\": 0, \"r\": 0},\n",
        "}\n",
        "for score in rouge_scores:\n",
        "    for key in avg_rouge.keys():\n",
        "        for metric in avg_rouge[key].keys():\n",
        "            avg_rouge[key][metric] += score[key][metric]\n",
        "\n",
        "num_docs = len(rouge_scores)\n",
        "for key in avg_rouge.keys():\n",
        "    for metric in avg_rouge[key].keys():\n",
        "        avg_rouge[key][metric] /= num_docs\n",
        "\n",
        "print(\"Average ROUGE Scores:\", avg_rouge)\n"
      ],
      "metadata": {
        "colab": {
          "base_uri": "https://localhost:8080/"
        },
        "id": "ITYSPw6CE-GB",
        "outputId": "0e4398dd-93ff-4bf8-83e5-f379798b97a8"
      },
      "execution_count": 82,
      "outputs": [
        {
          "output_type": "stream",
          "name": "stdout",
          "text": [
            "Average ROUGE Scores: {'rouge-1': {'f': 0.16467146181995518, 'p': 0.11652638774215586, 'r': 0.32206040627712457}, 'rouge-2': {'f': 0.05528585917129778, 'p': 0.03966994413500239, 'r': 0.1050708654357635}, 'rouge-l': {'f': 0.1520136517008441, 'p': 0.10791581725693289, 'r': 0.2942200701426707}}\n"
          ]
        }
      ]
    },
    {
      "cell_type": "markdown",
      "source": [
        "4. PEGASUS Model"
      ],
      "metadata": {
        "id": "G5OXHLGXew_h"
      }
    },
    {
      "cell_type": "code",
      "source": [
        "# 3. PEGASUS Setup\n",
        "\n",
        "from transformers import PegasusTokenizer, PegasusForConditionalGeneration\n",
        "from datasets import Dataset\n",
        "import json\n",
        "\n",
        "# Load the dataset from Google Drive\n",
        "file_path = \"/content/drive/MyDrive/Colab Notebooks/ArabicDataSet.json\"  # Adjust the path if needed\n",
        "with open(file_path, \"r\", encoding=\"utf-8\") as f:\n",
        "    data = json.load(f)\n",
        "\n",
        "# Print total number of documents and a sample document\n",
        "print(f\"Total documents loaded: {len(data)}\")\n",
        "print(\"Sample document:\", data[0])  # Display the first document\n",
        "\n",
        "# Convert to HuggingFace Dataset format (based on your dataset structure)\n",
        "dataset = Dataset.from_dict({\n",
        "    \"input\": [doc[\"Document\"] for doc in data],  # Assuming your data has a \"Document\" field\n",
        "    \"target\": [doc[\"Summary\"] for doc in data],  # Assuming your data has a \"Summary\" field\n",
        "})\n",
        "\n",
        "# Load the tokenizer and model for PEGASUS\n",
        "pegasus_tokenizer = PegasusTokenizer.from_pretrained(\"google/pegasus-large\")\n",
        "pegasus_model = PegasusForConditionalGeneration.from_pretrained(\"google/pegasus-large\")\n",
        "\n",
        "# Tokenization function for PEGASUS\n",
        "def tokenize_pegasus(examples):\n",
        "    model_inputs = pegasus_tokenizer(examples[\"input\"], truncation=True, padding=\"max_length\", max_length=512)\n",
        "    labels = pegasus_tokenizer(examples[\"target\"], truncation=True, padding=\"max_length\", max_length=150)\n",
        "    model_inputs[\"labels\"] = labels[\"input_ids\"]\n",
        "    return model_inputs\n",
        "\n",
        "# Apply the tokenization function to the dataset\n",
        "train_hf_pegasus = dataset.map(tokenize_pegasus, batched=True)\n",
        "\n",
        "# Check the first tokenized example for PEGASUS\n",
        "print(\"PEGASUS Example:\", train_hf_pegasus[0])\n",
        "\n",
        "# Model Evaluation for PEGASUS (simple inference, for example)\n",
        "inputs = pegasus_tokenizer(\"This is the input text for PEGASUS.\", return_tensors=\"pt\", truncation=True, padding=\"max_length\", max_length=512)\n",
        "summary_ids = pegasus_model.generate(inputs[\"input_ids\"], max_length=150, num_beams=4, early_stopping=True)\n",
        "\n",
        "# Decode and print the result\n",
        "pegasus_summary = pegasus_tokenizer.decode(summary_ids[0], skip_special_tokens=True)\n",
        "print(\"PEGASUS Summary:\", pegasus_summary)\n"
      ],
      "metadata": {
        "colab": {
          "base_uri": "https://localhost:8080/",
          "height": 173,
          "referenced_widgets": [
            "6ea847bf102048f28929153cb899ebf8",
            "2c914542cb9449d18d8f77eeeafdc7f7",
            "f0caa786da5941e0864e6f7b9c88e135",
            "f311576f032b42cab030909f499b1dfb",
            "7ae844d53df445f881454814b9246941",
            "2c6555b46cac4e86bbb105c5db772290",
            "13bf81b57b52472585285e60ee067bc1",
            "ad6db9a36a554272aab1e188305faa00",
            "c970a92ce7204f3f9b5fc6700cad100b",
            "4c7f7103564e4f80828809748532f4df",
            "7d9e7271746e48ec8205a935a3b85a9d"
          ]
        },
        "id": "rv5imMxueh4j",
        "outputId": "729fa79f-e8dc-4460-950f-91134815ed97"
      },
      "execution_count": 79,
      "outputs": [
        {
          "output_type": "stream",
          "name": "stdout",
          "text": [
            "Total documents loaded: 158\n",
            "Sample document: {'ID': 1, 'Document': 'الأكل الصحي يُعتبر جزءًا أساسيًا من نمط الحياة المتوازن. تناول الأطعمة الغنية بالفيتامينات والمعادن، مثل الخضروات والفواكه، يُعزز الصحة العامة ويُقلل من مخاطر الأمراض. الأطعمة الغنية بالألياف تُساعد على تحسين الهضم، بينما يُساهم تناول البروتينات الصحية في بناء العضلات وتقوية الجسم. الابتعاد عن الأطعمة المصنعة والمشبعة بالدهون يُساهم في تقليل مستويات الكوليسترول في الدم. تحقيق التوازن بين أنواع الطعام المختلفة، بالإضافة إلى شرب الماء بكميات كافية، يضمن الحفاظ على طاقة الجسم طوال اليوم.', 'Summary': 'الأكل الصحي يُعزز الصحة العامة ويُقلل من مخاطر الأمراض.', 'Category': 'Short', 'Topic': 'فوائد الأكل الصحي', 'Split': 'Train'}\n"
          ]
        },
        {
          "output_type": "stream",
          "name": "stderr",
          "text": [
            "Some weights of PegasusForConditionalGeneration were not initialized from the model checkpoint at google/pegasus-large and are newly initialized: ['model.decoder.embed_positions.weight', 'model.encoder.embed_positions.weight']\n",
            "You should probably TRAIN this model on a down-stream task to be able to use it for predictions and inference.\n"
          ]
        },
        {
          "output_type": "display_data",
          "data": {
            "text/plain": [
              "Map:   0%|          | 0/158 [00:00<?, ? examples/s]"
            ],
            "application/vnd.jupyter.widget-view+json": {
              "version_major": 2,
              "version_minor": 0,
              "model_id": "6ea847bf102048f28929153cb899ebf8"
            }
          },
          "metadata": {}
        },
        {
          "output_type": "stream",
          "name": "stdout",
          "text": [
            "PEGASUS Example: {'input': 'الأكل الصحي يُعتبر جزءًا أساسيًا من نمط الحياة المتوازن. تناول الأطعمة الغنية بالفيتامينات والمعادن، مثل الخضروات والفواكه، يُعزز الصحة العامة ويُقلل من مخاطر الأمراض. الأطعمة الغنية بالألياف تُساعد على تحسين الهضم، بينما يُساهم تناول البروتينات الصحية في بناء العضلات وتقوية الجسم. الابتعاد عن الأطعمة المصنعة والمشبعة بالدهون يُساهم في تقليل مستويات الكوليسترول في الدم. تحقيق التوازن بين أنواع الطعام المختلفة، بالإضافة إلى شرب الماء بكميات كافية، يضمن الحفاظ على طاقة الجسم طوال اليوم.', 'target': 'الأكل الصحي يُعزز الصحة العامة ويُقلل من مخاطر الأمراض.', 'input_ids': [110, 105, 110, 105, 110, 105, 110, 105, 110, 105, 110, 105, 110, 105, 110, 105, 110, 105, 107, 110, 105, 110, 105, 110, 105, 110, 105, 110, 105, 110, 105, 110, 105, 110, 105, 110, 105, 110, 105, 110, 105, 110, 105, 110, 105, 110, 105, 110, 105, 107, 110, 105, 110, 105, 110, 105, 110, 105, 110, 105, 110, 105, 110, 105, 110, 105, 110, 105, 110, 105, 110, 105, 110, 105, 110, 105, 110, 105, 110, 105, 110, 105, 110, 105, 107, 110, 105, 110, 105, 110, 105, 110, 105, 110, 105, 110, 105, 110, 105, 110, 105, 110, 105, 110, 105, 110, 105, 110, 105, 110, 105, 107, 110, 105, 110, 105, 110, 105, 110, 105, 110, 105, 110, 105, 110, 105, 110, 105, 110, 105, 110, 105, 110, 105, 110, 105, 110, 105, 110, 105, 110, 105, 110, 105, 110, 105, 110, 105, 110, 105, 107, 1, 0, 0, 0, 0, 0, 0, 0, 0, 0, 0, 0, 0, 0, 0, 0, 0, 0, 0, 0, 0, 0, 0, 0, 0, 0, 0, 0, 0, 0, 0, 0, 0, 0, 0, 0, 0, 0, 0, 0, 0, 0, 0, 0, 0, 0, 0, 0, 0, 0, 0, 0, 0, 0, 0, 0, 0, 0, 0, 0, 0, 0, 0, 0, 0, 0, 0, 0, 0, 0, 0, 0, 0, 0, 0, 0, 0, 0, 0, 0, 0, 0, 0, 0, 0, 0, 0, 0, 0, 0, 0, 0, 0, 0, 0, 0, 0, 0, 0, 0, 0, 0, 0, 0, 0, 0, 0, 0, 0, 0, 0, 0, 0, 0, 0, 0, 0, 0, 0, 0, 0, 0, 0, 0, 0, 0, 0, 0, 0, 0, 0, 0, 0, 0, 0, 0, 0, 0, 0, 0, 0, 0, 0, 0, 0, 0, 0, 0, 0, 0, 0, 0, 0, 0, 0, 0, 0, 0, 0, 0, 0, 0, 0, 0, 0, 0, 0, 0, 0, 0, 0, 0, 0, 0, 0, 0, 0, 0, 0, 0, 0, 0, 0, 0, 0, 0, 0, 0, 0, 0, 0, 0, 0, 0, 0, 0, 0, 0, 0, 0, 0, 0, 0, 0, 0, 0, 0, 0, 0, 0, 0, 0, 0, 0, 0, 0, 0, 0, 0, 0, 0, 0, 0, 0, 0, 0, 0, 0, 0, 0, 0, 0, 0, 0, 0, 0, 0, 0, 0, 0, 0, 0, 0, 0, 0, 0, 0, 0, 0, 0, 0, 0, 0, 0, 0, 0, 0, 0, 0, 0, 0, 0, 0, 0, 0, 0, 0, 0, 0, 0, 0, 0, 0, 0, 0, 0, 0, 0, 0, 0, 0, 0, 0, 0, 0, 0, 0, 0, 0, 0, 0, 0, 0, 0, 0, 0, 0, 0, 0, 0, 0, 0, 0, 0, 0, 0, 0, 0, 0, 0, 0, 0, 0, 0, 0, 0, 0, 0, 0, 0, 0, 0, 0, 0, 0, 0, 0, 0, 0, 0, 0, 0, 0, 0, 0, 0, 0, 0, 0, 0, 0, 0, 0, 0, 0, 0, 0, 0, 0, 0, 0, 0, 0, 0, 0, 0, 0, 0, 0, 0, 0], 'attention_mask': [1, 1, 1, 1, 1, 1, 1, 1, 1, 1, 1, 1, 1, 1, 1, 1, 1, 1, 1, 1, 1, 1, 1, 1, 1, 1, 1, 1, 1, 1, 1, 1, 1, 1, 1, 1, 1, 1, 1, 1, 1, 1, 1, 1, 1, 1, 1, 1, 1, 1, 1, 1, 1, 1, 1, 1, 1, 1, 1, 1, 1, 1, 1, 1, 1, 1, 1, 1, 1, 1, 1, 1, 1, 1, 1, 1, 1, 1, 1, 1, 1, 1, 1, 1, 1, 1, 1, 1, 1, 1, 1, 1, 1, 1, 1, 1, 1, 1, 1, 1, 1, 1, 1, 1, 1, 1, 1, 1, 1, 1, 1, 1, 1, 1, 1, 1, 1, 1, 1, 1, 1, 1, 1, 1, 1, 1, 1, 1, 1, 1, 1, 1, 1, 1, 1, 1, 1, 1, 1, 1, 1, 1, 1, 1, 1, 1, 1, 1, 1, 1, 1, 1, 0, 0, 0, 0, 0, 0, 0, 0, 0, 0, 0, 0, 0, 0, 0, 0, 0, 0, 0, 0, 0, 0, 0, 0, 0, 0, 0, 0, 0, 0, 0, 0, 0, 0, 0, 0, 0, 0, 0, 0, 0, 0, 0, 0, 0, 0, 0, 0, 0, 0, 0, 0, 0, 0, 0, 0, 0, 0, 0, 0, 0, 0, 0, 0, 0, 0, 0, 0, 0, 0, 0, 0, 0, 0, 0, 0, 0, 0, 0, 0, 0, 0, 0, 0, 0, 0, 0, 0, 0, 0, 0, 0, 0, 0, 0, 0, 0, 0, 0, 0, 0, 0, 0, 0, 0, 0, 0, 0, 0, 0, 0, 0, 0, 0, 0, 0, 0, 0, 0, 0, 0, 0, 0, 0, 0, 0, 0, 0, 0, 0, 0, 0, 0, 0, 0, 0, 0, 0, 0, 0, 0, 0, 0, 0, 0, 0, 0, 0, 0, 0, 0, 0, 0, 0, 0, 0, 0, 0, 0, 0, 0, 0, 0, 0, 0, 0, 0, 0, 0, 0, 0, 0, 0, 0, 0, 0, 0, 0, 0, 0, 0, 0, 0, 0, 0, 0, 0, 0, 0, 0, 0, 0, 0, 0, 0, 0, 0, 0, 0, 0, 0, 0, 0, 0, 0, 0, 0, 0, 0, 0, 0, 0, 0, 0, 0, 0, 0, 0, 0, 0, 0, 0, 0, 0, 0, 0, 0, 0, 0, 0, 0, 0, 0, 0, 0, 0, 0, 0, 0, 0, 0, 0, 0, 0, 0, 0, 0, 0, 0, 0, 0, 0, 0, 0, 0, 0, 0, 0, 0, 0, 0, 0, 0, 0, 0, 0, 0, 0, 0, 0, 0, 0, 0, 0, 0, 0, 0, 0, 0, 0, 0, 0, 0, 0, 0, 0, 0, 0, 0, 0, 0, 0, 0, 0, 0, 0, 0, 0, 0, 0, 0, 0, 0, 0, 0, 0, 0, 0, 0, 0, 0, 0, 0, 0, 0, 0, 0, 0, 0, 0, 0, 0, 0, 0, 0, 0, 0, 0, 0, 0, 0, 0, 0, 0, 0, 0, 0, 0, 0, 0, 0, 0, 0, 0, 0, 0, 0, 0, 0, 0, 0, 0, 0, 0, 0, 0, 0, 0, 0, 0], 'labels': [110, 105, 110, 105, 110, 105, 110, 105, 110, 105, 110, 105, 110, 105, 110, 105, 110, 105, 107, 1, 0, 0, 0, 0, 0, 0, 0, 0, 0, 0, 0, 0, 0, 0, 0, 0, 0, 0, 0, 0, 0, 0, 0, 0, 0, 0, 0, 0, 0, 0, 0, 0, 0, 0, 0, 0, 0, 0, 0, 0, 0, 0, 0, 0, 0, 0, 0, 0, 0, 0, 0, 0, 0, 0, 0, 0, 0, 0, 0, 0, 0, 0, 0, 0, 0, 0, 0, 0, 0, 0, 0, 0, 0, 0, 0, 0, 0, 0, 0, 0, 0, 0, 0, 0, 0, 0, 0, 0, 0, 0, 0, 0, 0, 0, 0, 0, 0, 0, 0, 0, 0, 0, 0, 0, 0, 0, 0, 0, 0, 0, 0, 0, 0, 0, 0, 0, 0, 0, 0, 0, 0, 0, 0, 0, 0, 0, 0, 0, 0, 0]}\n",
            "PEGASUS Summary: This is the input text for PEGASUS.\n"
          ]
        }
      ]
    },
    {
      "cell_type": "code",
      "source": [
        "from rouge import Rouge\n",
        "\n",
        "# Initialize ROUGE scorer\n",
        "rouge = Rouge()\n",
        "\n",
        "# Evaluate the summaries\n",
        "rouge_scores = []\n",
        "for doc in test_data:\n",
        "    reference = doc[\"Summary\"]\n",
        "    generated = doc[\"Generated_Summary\"]\n",
        "    scores = rouge.get_scores(generated, reference)\n",
        "    rouge_scores.append(scores[0])\n",
        "\n",
        "# Calculate average ROUGE scores\n",
        "avg_rouge = {\n",
        "    \"rouge-1\": {\"f\": 0, \"p\": 0, \"r\": 0},\n",
        "    \"rouge-2\": {\"f\": 0, \"p\": 0, \"r\": 0},\n",
        "    \"rouge-l\": {\"f\": 0, \"p\": 0, \"r\": 0},\n",
        "}\n",
        "for score in rouge_scores:\n",
        "    for key in avg_rouge.keys():\n",
        "        for metric in avg_rouge[key].keys():\n",
        "            avg_rouge[key][metric] += score[key][metric]\n",
        "\n",
        "num_docs = len(rouge_scores)\n",
        "for key in avg_rouge.keys():\n",
        "    for metric in avg_rouge[key].keys():\n",
        "        avg_rouge[key][metric] /= num_docs\n",
        "\n",
        "print(\"Average ROUGE Scores:\", avg_rouge)\n"
      ],
      "metadata": {
        "colab": {
          "base_uri": "https://localhost:8080/"
        },
        "id": "Q6NR6iByFIjo",
        "outputId": "8cd08ef2-450f-44a7-93a7-7eef39bf740a"
      },
      "execution_count": 80,
      "outputs": [
        {
          "output_type": "stream",
          "name": "stdout",
          "text": [
            "Average ROUGE Scores: {'rouge-1': {'f': 0.16467146181995518, 'p': 0.11652638774215586, 'r': 0.32206040627712457}, 'rouge-2': {'f': 0.05528585917129778, 'p': 0.03966994413500239, 'r': 0.1050708654357635}, 'rouge-l': {'f': 0.1520136517008441, 'p': 0.10791581725693289, 'r': 0.2942200701426707}}\n"
          ]
        }
      ]
    }
  ],
  "metadata": {
    "colab": {
      "provenance": []
    },
    "kernelspec": {
      "display_name": "Python 3",
      "name": "python3"
    },
    "language_info": {
      "name": "python"
    },
    "widgets": {
      "application/vnd.jupyter.widget-state+json": {
        "2a25e43174f647a7843ece233d20383f": {
          "model_module": "@jupyter-widgets/controls",
          "model_name": "HBoxModel",
          "model_module_version": "1.5.0",
          "state": {
            "_dom_classes": [],
            "_model_module": "@jupyter-widgets/controls",
            "_model_module_version": "1.5.0",
            "_model_name": "HBoxModel",
            "_view_count": null,
            "_view_module": "@jupyter-widgets/controls",
            "_view_module_version": "1.5.0",
            "_view_name": "HBoxView",
            "box_style": "",
            "children": [
              "IPY_MODEL_9d20e13ad1974781b000d3a425189e97",
              "IPY_MODEL_ef8fd5b7279b4a0d9376b7808d9344d1",
              "IPY_MODEL_769fa714cf9642d1a39ea71da6959050"
            ],
            "layout": "IPY_MODEL_ddcdd4a3f94d4cbf996ce51cb5b5f09f"
          }
        },
        "9d20e13ad1974781b000d3a425189e97": {
          "model_module": "@jupyter-widgets/controls",
          "model_name": "HTMLModel",
          "model_module_version": "1.5.0",
          "state": {
            "_dom_classes": [],
            "_model_module": "@jupyter-widgets/controls",
            "_model_module_version": "1.5.0",
            "_model_name": "HTMLModel",
            "_view_count": null,
            "_view_module": "@jupyter-widgets/controls",
            "_view_module_version": "1.5.0",
            "_view_name": "HTMLView",
            "description": "",
            "description_tooltip": null,
            "layout": "IPY_MODEL_1b91bc2a03474ed2b5ffbd9c6ae74d04",
            "placeholder": "​",
            "style": "IPY_MODEL_d30f47b9b38548b08d282a446fa2326f",
            "value": "Map: 100%"
          }
        },
        "ef8fd5b7279b4a0d9376b7808d9344d1": {
          "model_module": "@jupyter-widgets/controls",
          "model_name": "FloatProgressModel",
          "model_module_version": "1.5.0",
          "state": {
            "_dom_classes": [],
            "_model_module": "@jupyter-widgets/controls",
            "_model_module_version": "1.5.0",
            "_model_name": "FloatProgressModel",
            "_view_count": null,
            "_view_module": "@jupyter-widgets/controls",
            "_view_module_version": "1.5.0",
            "_view_name": "ProgressView",
            "bar_style": "success",
            "description": "",
            "description_tooltip": null,
            "layout": "IPY_MODEL_fa24aa87a3d04f0bb4b4cc993d267c86",
            "max": 640,
            "min": 0,
            "orientation": "horizontal",
            "style": "IPY_MODEL_3da3f4042dd6445981e686ca1ffac829",
            "value": 640
          }
        },
        "769fa714cf9642d1a39ea71da6959050": {
          "model_module": "@jupyter-widgets/controls",
          "model_name": "HTMLModel",
          "model_module_version": "1.5.0",
          "state": {
            "_dom_classes": [],
            "_model_module": "@jupyter-widgets/controls",
            "_model_module_version": "1.5.0",
            "_model_name": "HTMLModel",
            "_view_count": null,
            "_view_module": "@jupyter-widgets/controls",
            "_view_module_version": "1.5.0",
            "_view_name": "HTMLView",
            "description": "",
            "description_tooltip": null,
            "layout": "IPY_MODEL_c1eb36cefe804e68b3898114daaf5b8d",
            "placeholder": "​",
            "style": "IPY_MODEL_eef3fdaf77b44756b8700e4bca9e7e57",
            "value": " 640/640 [00:00&lt;00:00, 1891.17 examples/s]"
          }
        },
        "ddcdd4a3f94d4cbf996ce51cb5b5f09f": {
          "model_module": "@jupyter-widgets/base",
          "model_name": "LayoutModel",
          "model_module_version": "1.2.0",
          "state": {
            "_model_module": "@jupyter-widgets/base",
            "_model_module_version": "1.2.0",
            "_model_name": "LayoutModel",
            "_view_count": null,
            "_view_module": "@jupyter-widgets/base",
            "_view_module_version": "1.2.0",
            "_view_name": "LayoutView",
            "align_content": null,
            "align_items": null,
            "align_self": null,
            "border": null,
            "bottom": null,
            "display": null,
            "flex": null,
            "flex_flow": null,
            "grid_area": null,
            "grid_auto_columns": null,
            "grid_auto_flow": null,
            "grid_auto_rows": null,
            "grid_column": null,
            "grid_gap": null,
            "grid_row": null,
            "grid_template_areas": null,
            "grid_template_columns": null,
            "grid_template_rows": null,
            "height": null,
            "justify_content": null,
            "justify_items": null,
            "left": null,
            "margin": null,
            "max_height": null,
            "max_width": null,
            "min_height": null,
            "min_width": null,
            "object_fit": null,
            "object_position": null,
            "order": null,
            "overflow": null,
            "overflow_x": null,
            "overflow_y": null,
            "padding": null,
            "right": null,
            "top": null,
            "visibility": null,
            "width": null
          }
        },
        "1b91bc2a03474ed2b5ffbd9c6ae74d04": {
          "model_module": "@jupyter-widgets/base",
          "model_name": "LayoutModel",
          "model_module_version": "1.2.0",
          "state": {
            "_model_module": "@jupyter-widgets/base",
            "_model_module_version": "1.2.0",
            "_model_name": "LayoutModel",
            "_view_count": null,
            "_view_module": "@jupyter-widgets/base",
            "_view_module_version": "1.2.0",
            "_view_name": "LayoutView",
            "align_content": null,
            "align_items": null,
            "align_self": null,
            "border": null,
            "bottom": null,
            "display": null,
            "flex": null,
            "flex_flow": null,
            "grid_area": null,
            "grid_auto_columns": null,
            "grid_auto_flow": null,
            "grid_auto_rows": null,
            "grid_column": null,
            "grid_gap": null,
            "grid_row": null,
            "grid_template_areas": null,
            "grid_template_columns": null,
            "grid_template_rows": null,
            "height": null,
            "justify_content": null,
            "justify_items": null,
            "left": null,
            "margin": null,
            "max_height": null,
            "max_width": null,
            "min_height": null,
            "min_width": null,
            "object_fit": null,
            "object_position": null,
            "order": null,
            "overflow": null,
            "overflow_x": null,
            "overflow_y": null,
            "padding": null,
            "right": null,
            "top": null,
            "visibility": null,
            "width": null
          }
        },
        "d30f47b9b38548b08d282a446fa2326f": {
          "model_module": "@jupyter-widgets/controls",
          "model_name": "DescriptionStyleModel",
          "model_module_version": "1.5.0",
          "state": {
            "_model_module": "@jupyter-widgets/controls",
            "_model_module_version": "1.5.0",
            "_model_name": "DescriptionStyleModel",
            "_view_count": null,
            "_view_module": "@jupyter-widgets/base",
            "_view_module_version": "1.2.0",
            "_view_name": "StyleView",
            "description_width": ""
          }
        },
        "fa24aa87a3d04f0bb4b4cc993d267c86": {
          "model_module": "@jupyter-widgets/base",
          "model_name": "LayoutModel",
          "model_module_version": "1.2.0",
          "state": {
            "_model_module": "@jupyter-widgets/base",
            "_model_module_version": "1.2.0",
            "_model_name": "LayoutModel",
            "_view_count": null,
            "_view_module": "@jupyter-widgets/base",
            "_view_module_version": "1.2.0",
            "_view_name": "LayoutView",
            "align_content": null,
            "align_items": null,
            "align_self": null,
            "border": null,
            "bottom": null,
            "display": null,
            "flex": null,
            "flex_flow": null,
            "grid_area": null,
            "grid_auto_columns": null,
            "grid_auto_flow": null,
            "grid_auto_rows": null,
            "grid_column": null,
            "grid_gap": null,
            "grid_row": null,
            "grid_template_areas": null,
            "grid_template_columns": null,
            "grid_template_rows": null,
            "height": null,
            "justify_content": null,
            "justify_items": null,
            "left": null,
            "margin": null,
            "max_height": null,
            "max_width": null,
            "min_height": null,
            "min_width": null,
            "object_fit": null,
            "object_position": null,
            "order": null,
            "overflow": null,
            "overflow_x": null,
            "overflow_y": null,
            "padding": null,
            "right": null,
            "top": null,
            "visibility": null,
            "width": null
          }
        },
        "3da3f4042dd6445981e686ca1ffac829": {
          "model_module": "@jupyter-widgets/controls",
          "model_name": "ProgressStyleModel",
          "model_module_version": "1.5.0",
          "state": {
            "_model_module": "@jupyter-widgets/controls",
            "_model_module_version": "1.5.0",
            "_model_name": "ProgressStyleModel",
            "_view_count": null,
            "_view_module": "@jupyter-widgets/base",
            "_view_module_version": "1.2.0",
            "_view_name": "StyleView",
            "bar_color": null,
            "description_width": ""
          }
        },
        "c1eb36cefe804e68b3898114daaf5b8d": {
          "model_module": "@jupyter-widgets/base",
          "model_name": "LayoutModel",
          "model_module_version": "1.2.0",
          "state": {
            "_model_module": "@jupyter-widgets/base",
            "_model_module_version": "1.2.0",
            "_model_name": "LayoutModel",
            "_view_count": null,
            "_view_module": "@jupyter-widgets/base",
            "_view_module_version": "1.2.0",
            "_view_name": "LayoutView",
            "align_content": null,
            "align_items": null,
            "align_self": null,
            "border": null,
            "bottom": null,
            "display": null,
            "flex": null,
            "flex_flow": null,
            "grid_area": null,
            "grid_auto_columns": null,
            "grid_auto_flow": null,
            "grid_auto_rows": null,
            "grid_column": null,
            "grid_gap": null,
            "grid_row": null,
            "grid_template_areas": null,
            "grid_template_columns": null,
            "grid_template_rows": null,
            "height": null,
            "justify_content": null,
            "justify_items": null,
            "left": null,
            "margin": null,
            "max_height": null,
            "max_width": null,
            "min_height": null,
            "min_width": null,
            "object_fit": null,
            "object_position": null,
            "order": null,
            "overflow": null,
            "overflow_x": null,
            "overflow_y": null,
            "padding": null,
            "right": null,
            "top": null,
            "visibility": null,
            "width": null
          }
        },
        "eef3fdaf77b44756b8700e4bca9e7e57": {
          "model_module": "@jupyter-widgets/controls",
          "model_name": "DescriptionStyleModel",
          "model_module_version": "1.5.0",
          "state": {
            "_model_module": "@jupyter-widgets/controls",
            "_model_module_version": "1.5.0",
            "_model_name": "DescriptionStyleModel",
            "_view_count": null,
            "_view_module": "@jupyter-widgets/base",
            "_view_module_version": "1.2.0",
            "_view_name": "StyleView",
            "description_width": ""
          }
        },
        "390c677c7a194ffaba29666603fd2421": {
          "model_module": "@jupyter-widgets/controls",
          "model_name": "HBoxModel",
          "model_module_version": "1.5.0",
          "state": {
            "_dom_classes": [],
            "_model_module": "@jupyter-widgets/controls",
            "_model_module_version": "1.5.0",
            "_model_name": "HBoxModel",
            "_view_count": null,
            "_view_module": "@jupyter-widgets/controls",
            "_view_module_version": "1.5.0",
            "_view_name": "HBoxView",
            "box_style": "",
            "children": [
              "IPY_MODEL_81ecaa548bd3478292b67a58deaaa0f8",
              "IPY_MODEL_2b4dda3cdcb8478c992f22c6cb78b7d2",
              "IPY_MODEL_f1e39f7642804ba88ae84271e44d7f55"
            ],
            "layout": "IPY_MODEL_08788f8d8ef243648338be9b87199199"
          }
        },
        "81ecaa548bd3478292b67a58deaaa0f8": {
          "model_module": "@jupyter-widgets/controls",
          "model_name": "HTMLModel",
          "model_module_version": "1.5.0",
          "state": {
            "_dom_classes": [],
            "_model_module": "@jupyter-widgets/controls",
            "_model_module_version": "1.5.0",
            "_model_name": "HTMLModel",
            "_view_count": null,
            "_view_module": "@jupyter-widgets/controls",
            "_view_module_version": "1.5.0",
            "_view_name": "HTMLView",
            "description": "",
            "description_tooltip": null,
            "layout": "IPY_MODEL_fc96755ffdae4b40b938487a819d10e3",
            "placeholder": "​",
            "style": "IPY_MODEL_8f0f0a5118a3411499f178f601d50793",
            "value": "Map: 100%"
          }
        },
        "2b4dda3cdcb8478c992f22c6cb78b7d2": {
          "model_module": "@jupyter-widgets/controls",
          "model_name": "FloatProgressModel",
          "model_module_version": "1.5.0",
          "state": {
            "_dom_classes": [],
            "_model_module": "@jupyter-widgets/controls",
            "_model_module_version": "1.5.0",
            "_model_name": "FloatProgressModel",
            "_view_count": null,
            "_view_module": "@jupyter-widgets/controls",
            "_view_module_version": "1.5.0",
            "_view_name": "ProgressView",
            "bar_style": "success",
            "description": "",
            "description_tooltip": null,
            "layout": "IPY_MODEL_dd84aad521cb40c89b4db4d3631bf45a",
            "max": 159,
            "min": 0,
            "orientation": "horizontal",
            "style": "IPY_MODEL_1721045001d4422a93e1a6f1a2c658cc",
            "value": 159
          }
        },
        "f1e39f7642804ba88ae84271e44d7f55": {
          "model_module": "@jupyter-widgets/controls",
          "model_name": "HTMLModel",
          "model_module_version": "1.5.0",
          "state": {
            "_dom_classes": [],
            "_model_module": "@jupyter-widgets/controls",
            "_model_module_version": "1.5.0",
            "_model_name": "HTMLModel",
            "_view_count": null,
            "_view_module": "@jupyter-widgets/controls",
            "_view_module_version": "1.5.0",
            "_view_name": "HTMLView",
            "description": "",
            "description_tooltip": null,
            "layout": "IPY_MODEL_fdab25b970ce455a945407bbe1ddd910",
            "placeholder": "​",
            "style": "IPY_MODEL_e2482600809c4f908db6dc794d68bfb2",
            "value": " 159/159 [00:00&lt;00:00, 1424.35 examples/s]"
          }
        },
        "08788f8d8ef243648338be9b87199199": {
          "model_module": "@jupyter-widgets/base",
          "model_name": "LayoutModel",
          "model_module_version": "1.2.0",
          "state": {
            "_model_module": "@jupyter-widgets/base",
            "_model_module_version": "1.2.0",
            "_model_name": "LayoutModel",
            "_view_count": null,
            "_view_module": "@jupyter-widgets/base",
            "_view_module_version": "1.2.0",
            "_view_name": "LayoutView",
            "align_content": null,
            "align_items": null,
            "align_self": null,
            "border": null,
            "bottom": null,
            "display": null,
            "flex": null,
            "flex_flow": null,
            "grid_area": null,
            "grid_auto_columns": null,
            "grid_auto_flow": null,
            "grid_auto_rows": null,
            "grid_column": null,
            "grid_gap": null,
            "grid_row": null,
            "grid_template_areas": null,
            "grid_template_columns": null,
            "grid_template_rows": null,
            "height": null,
            "justify_content": null,
            "justify_items": null,
            "left": null,
            "margin": null,
            "max_height": null,
            "max_width": null,
            "min_height": null,
            "min_width": null,
            "object_fit": null,
            "object_position": null,
            "order": null,
            "overflow": null,
            "overflow_x": null,
            "overflow_y": null,
            "padding": null,
            "right": null,
            "top": null,
            "visibility": null,
            "width": null
          }
        },
        "fc96755ffdae4b40b938487a819d10e3": {
          "model_module": "@jupyter-widgets/base",
          "model_name": "LayoutModel",
          "model_module_version": "1.2.0",
          "state": {
            "_model_module": "@jupyter-widgets/base",
            "_model_module_version": "1.2.0",
            "_model_name": "LayoutModel",
            "_view_count": null,
            "_view_module": "@jupyter-widgets/base",
            "_view_module_version": "1.2.0",
            "_view_name": "LayoutView",
            "align_content": null,
            "align_items": null,
            "align_self": null,
            "border": null,
            "bottom": null,
            "display": null,
            "flex": null,
            "flex_flow": null,
            "grid_area": null,
            "grid_auto_columns": null,
            "grid_auto_flow": null,
            "grid_auto_rows": null,
            "grid_column": null,
            "grid_gap": null,
            "grid_row": null,
            "grid_template_areas": null,
            "grid_template_columns": null,
            "grid_template_rows": null,
            "height": null,
            "justify_content": null,
            "justify_items": null,
            "left": null,
            "margin": null,
            "max_height": null,
            "max_width": null,
            "min_height": null,
            "min_width": null,
            "object_fit": null,
            "object_position": null,
            "order": null,
            "overflow": null,
            "overflow_x": null,
            "overflow_y": null,
            "padding": null,
            "right": null,
            "top": null,
            "visibility": null,
            "width": null
          }
        },
        "8f0f0a5118a3411499f178f601d50793": {
          "model_module": "@jupyter-widgets/controls",
          "model_name": "DescriptionStyleModel",
          "model_module_version": "1.5.0",
          "state": {
            "_model_module": "@jupyter-widgets/controls",
            "_model_module_version": "1.5.0",
            "_model_name": "DescriptionStyleModel",
            "_view_count": null,
            "_view_module": "@jupyter-widgets/base",
            "_view_module_version": "1.2.0",
            "_view_name": "StyleView",
            "description_width": ""
          }
        },
        "dd84aad521cb40c89b4db4d3631bf45a": {
          "model_module": "@jupyter-widgets/base",
          "model_name": "LayoutModel",
          "model_module_version": "1.2.0",
          "state": {
            "_model_module": "@jupyter-widgets/base",
            "_model_module_version": "1.2.0",
            "_model_name": "LayoutModel",
            "_view_count": null,
            "_view_module": "@jupyter-widgets/base",
            "_view_module_version": "1.2.0",
            "_view_name": "LayoutView",
            "align_content": null,
            "align_items": null,
            "align_self": null,
            "border": null,
            "bottom": null,
            "display": null,
            "flex": null,
            "flex_flow": null,
            "grid_area": null,
            "grid_auto_columns": null,
            "grid_auto_flow": null,
            "grid_auto_rows": null,
            "grid_column": null,
            "grid_gap": null,
            "grid_row": null,
            "grid_template_areas": null,
            "grid_template_columns": null,
            "grid_template_rows": null,
            "height": null,
            "justify_content": null,
            "justify_items": null,
            "left": null,
            "margin": null,
            "max_height": null,
            "max_width": null,
            "min_height": null,
            "min_width": null,
            "object_fit": null,
            "object_position": null,
            "order": null,
            "overflow": null,
            "overflow_x": null,
            "overflow_y": null,
            "padding": null,
            "right": null,
            "top": null,
            "visibility": null,
            "width": null
          }
        },
        "1721045001d4422a93e1a6f1a2c658cc": {
          "model_module": "@jupyter-widgets/controls",
          "model_name": "ProgressStyleModel",
          "model_module_version": "1.5.0",
          "state": {
            "_model_module": "@jupyter-widgets/controls",
            "_model_module_version": "1.5.0",
            "_model_name": "ProgressStyleModel",
            "_view_count": null,
            "_view_module": "@jupyter-widgets/base",
            "_view_module_version": "1.2.0",
            "_view_name": "StyleView",
            "bar_color": null,
            "description_width": ""
          }
        },
        "fdab25b970ce455a945407bbe1ddd910": {
          "model_module": "@jupyter-widgets/base",
          "model_name": "LayoutModel",
          "model_module_version": "1.2.0",
          "state": {
            "_model_module": "@jupyter-widgets/base",
            "_model_module_version": "1.2.0",
            "_model_name": "LayoutModel",
            "_view_count": null,
            "_view_module": "@jupyter-widgets/base",
            "_view_module_version": "1.2.0",
            "_view_name": "LayoutView",
            "align_content": null,
            "align_items": null,
            "align_self": null,
            "border": null,
            "bottom": null,
            "display": null,
            "flex": null,
            "flex_flow": null,
            "grid_area": null,
            "grid_auto_columns": null,
            "grid_auto_flow": null,
            "grid_auto_rows": null,
            "grid_column": null,
            "grid_gap": null,
            "grid_row": null,
            "grid_template_areas": null,
            "grid_template_columns": null,
            "grid_template_rows": null,
            "height": null,
            "justify_content": null,
            "justify_items": null,
            "left": null,
            "margin": null,
            "max_height": null,
            "max_width": null,
            "min_height": null,
            "min_width": null,
            "object_fit": null,
            "object_position": null,
            "order": null,
            "overflow": null,
            "overflow_x": null,
            "overflow_y": null,
            "padding": null,
            "right": null,
            "top": null,
            "visibility": null,
            "width": null
          }
        },
        "e2482600809c4f908db6dc794d68bfb2": {
          "model_module": "@jupyter-widgets/controls",
          "model_name": "DescriptionStyleModel",
          "model_module_version": "1.5.0",
          "state": {
            "_model_module": "@jupyter-widgets/controls",
            "_model_module_version": "1.5.0",
            "_model_name": "DescriptionStyleModel",
            "_view_count": null,
            "_view_module": "@jupyter-widgets/base",
            "_view_module_version": "1.2.0",
            "_view_name": "StyleView",
            "description_width": ""
          }
        },
        "63f770f372e14f6090636098426c1582": {
          "model_module": "@jupyter-widgets/controls",
          "model_name": "HBoxModel",
          "model_module_version": "1.5.0",
          "state": {
            "_dom_classes": [],
            "_model_module": "@jupyter-widgets/controls",
            "_model_module_version": "1.5.0",
            "_model_name": "HBoxModel",
            "_view_count": null,
            "_view_module": "@jupyter-widgets/controls",
            "_view_module_version": "1.5.0",
            "_view_name": "HBoxView",
            "box_style": "",
            "children": [
              "IPY_MODEL_a3110302498d4beab9a478e5fa2cf2dd",
              "IPY_MODEL_d6a0380a55734a44a5e81782261cfd21",
              "IPY_MODEL_175f470e9adc46a5902a9c04dc3db00f"
            ],
            "layout": "IPY_MODEL_99acab3d944b42e3986258bb3aafffe6"
          }
        },
        "a3110302498d4beab9a478e5fa2cf2dd": {
          "model_module": "@jupyter-widgets/controls",
          "model_name": "HTMLModel",
          "model_module_version": "1.5.0",
          "state": {
            "_dom_classes": [],
            "_model_module": "@jupyter-widgets/controls",
            "_model_module_version": "1.5.0",
            "_model_name": "HTMLModel",
            "_view_count": null,
            "_view_module": "@jupyter-widgets/controls",
            "_view_module_version": "1.5.0",
            "_view_name": "HTMLView",
            "description": "",
            "description_tooltip": null,
            "layout": "IPY_MODEL_a7c7d1bb2c54424898291df6015ff364",
            "placeholder": "​",
            "style": "IPY_MODEL_21d5edbbbaa0408aa9ac0097ae1c2ad0",
            "value": "Map: 100%"
          }
        },
        "d6a0380a55734a44a5e81782261cfd21": {
          "model_module": "@jupyter-widgets/controls",
          "model_name": "FloatProgressModel",
          "model_module_version": "1.5.0",
          "state": {
            "_dom_classes": [],
            "_model_module": "@jupyter-widgets/controls",
            "_model_module_version": "1.5.0",
            "_model_name": "FloatProgressModel",
            "_view_count": null,
            "_view_module": "@jupyter-widgets/controls",
            "_view_module_version": "1.5.0",
            "_view_name": "ProgressView",
            "bar_style": "success",
            "description": "",
            "description_tooltip": null,
            "layout": "IPY_MODEL_13ae5cae38494f50b54fcac7c8595901",
            "max": 158,
            "min": 0,
            "orientation": "horizontal",
            "style": "IPY_MODEL_6e62e44d4ce148fc954865aafcc70115",
            "value": 158
          }
        },
        "175f470e9adc46a5902a9c04dc3db00f": {
          "model_module": "@jupyter-widgets/controls",
          "model_name": "HTMLModel",
          "model_module_version": "1.5.0",
          "state": {
            "_dom_classes": [],
            "_model_module": "@jupyter-widgets/controls",
            "_model_module_version": "1.5.0",
            "_model_name": "HTMLModel",
            "_view_count": null,
            "_view_module": "@jupyter-widgets/controls",
            "_view_module_version": "1.5.0",
            "_view_name": "HTMLView",
            "description": "",
            "description_tooltip": null,
            "layout": "IPY_MODEL_59564856da8e4276bd7a9e3af4178203",
            "placeholder": "​",
            "style": "IPY_MODEL_927871a3705e4062a4b6eb4bc412695f",
            "value": " 158/158 [00:02&lt;00:00, 76.53 examples/s]"
          }
        },
        "99acab3d944b42e3986258bb3aafffe6": {
          "model_module": "@jupyter-widgets/base",
          "model_name": "LayoutModel",
          "model_module_version": "1.2.0",
          "state": {
            "_model_module": "@jupyter-widgets/base",
            "_model_module_version": "1.2.0",
            "_model_name": "LayoutModel",
            "_view_count": null,
            "_view_module": "@jupyter-widgets/base",
            "_view_module_version": "1.2.0",
            "_view_name": "LayoutView",
            "align_content": null,
            "align_items": null,
            "align_self": null,
            "border": null,
            "bottom": null,
            "display": null,
            "flex": null,
            "flex_flow": null,
            "grid_area": null,
            "grid_auto_columns": null,
            "grid_auto_flow": null,
            "grid_auto_rows": null,
            "grid_column": null,
            "grid_gap": null,
            "grid_row": null,
            "grid_template_areas": null,
            "grid_template_columns": null,
            "grid_template_rows": null,
            "height": null,
            "justify_content": null,
            "justify_items": null,
            "left": null,
            "margin": null,
            "max_height": null,
            "max_width": null,
            "min_height": null,
            "min_width": null,
            "object_fit": null,
            "object_position": null,
            "order": null,
            "overflow": null,
            "overflow_x": null,
            "overflow_y": null,
            "padding": null,
            "right": null,
            "top": null,
            "visibility": null,
            "width": null
          }
        },
        "a7c7d1bb2c54424898291df6015ff364": {
          "model_module": "@jupyter-widgets/base",
          "model_name": "LayoutModel",
          "model_module_version": "1.2.0",
          "state": {
            "_model_module": "@jupyter-widgets/base",
            "_model_module_version": "1.2.0",
            "_model_name": "LayoutModel",
            "_view_count": null,
            "_view_module": "@jupyter-widgets/base",
            "_view_module_version": "1.2.0",
            "_view_name": "LayoutView",
            "align_content": null,
            "align_items": null,
            "align_self": null,
            "border": null,
            "bottom": null,
            "display": null,
            "flex": null,
            "flex_flow": null,
            "grid_area": null,
            "grid_auto_columns": null,
            "grid_auto_flow": null,
            "grid_auto_rows": null,
            "grid_column": null,
            "grid_gap": null,
            "grid_row": null,
            "grid_template_areas": null,
            "grid_template_columns": null,
            "grid_template_rows": null,
            "height": null,
            "justify_content": null,
            "justify_items": null,
            "left": null,
            "margin": null,
            "max_height": null,
            "max_width": null,
            "min_height": null,
            "min_width": null,
            "object_fit": null,
            "object_position": null,
            "order": null,
            "overflow": null,
            "overflow_x": null,
            "overflow_y": null,
            "padding": null,
            "right": null,
            "top": null,
            "visibility": null,
            "width": null
          }
        },
        "21d5edbbbaa0408aa9ac0097ae1c2ad0": {
          "model_module": "@jupyter-widgets/controls",
          "model_name": "DescriptionStyleModel",
          "model_module_version": "1.5.0",
          "state": {
            "_model_module": "@jupyter-widgets/controls",
            "_model_module_version": "1.5.0",
            "_model_name": "DescriptionStyleModel",
            "_view_count": null,
            "_view_module": "@jupyter-widgets/base",
            "_view_module_version": "1.2.0",
            "_view_name": "StyleView",
            "description_width": ""
          }
        },
        "13ae5cae38494f50b54fcac7c8595901": {
          "model_module": "@jupyter-widgets/base",
          "model_name": "LayoutModel",
          "model_module_version": "1.2.0",
          "state": {
            "_model_module": "@jupyter-widgets/base",
            "_model_module_version": "1.2.0",
            "_model_name": "LayoutModel",
            "_view_count": null,
            "_view_module": "@jupyter-widgets/base",
            "_view_module_version": "1.2.0",
            "_view_name": "LayoutView",
            "align_content": null,
            "align_items": null,
            "align_self": null,
            "border": null,
            "bottom": null,
            "display": null,
            "flex": null,
            "flex_flow": null,
            "grid_area": null,
            "grid_auto_columns": null,
            "grid_auto_flow": null,
            "grid_auto_rows": null,
            "grid_column": null,
            "grid_gap": null,
            "grid_row": null,
            "grid_template_areas": null,
            "grid_template_columns": null,
            "grid_template_rows": null,
            "height": null,
            "justify_content": null,
            "justify_items": null,
            "left": null,
            "margin": null,
            "max_height": null,
            "max_width": null,
            "min_height": null,
            "min_width": null,
            "object_fit": null,
            "object_position": null,
            "order": null,
            "overflow": null,
            "overflow_x": null,
            "overflow_y": null,
            "padding": null,
            "right": null,
            "top": null,
            "visibility": null,
            "width": null
          }
        },
        "6e62e44d4ce148fc954865aafcc70115": {
          "model_module": "@jupyter-widgets/controls",
          "model_name": "ProgressStyleModel",
          "model_module_version": "1.5.0",
          "state": {
            "_model_module": "@jupyter-widgets/controls",
            "_model_module_version": "1.5.0",
            "_model_name": "ProgressStyleModel",
            "_view_count": null,
            "_view_module": "@jupyter-widgets/base",
            "_view_module_version": "1.2.0",
            "_view_name": "StyleView",
            "bar_color": null,
            "description_width": ""
          }
        },
        "59564856da8e4276bd7a9e3af4178203": {
          "model_module": "@jupyter-widgets/base",
          "model_name": "LayoutModel",
          "model_module_version": "1.2.0",
          "state": {
            "_model_module": "@jupyter-widgets/base",
            "_model_module_version": "1.2.0",
            "_model_name": "LayoutModel",
            "_view_count": null,
            "_view_module": "@jupyter-widgets/base",
            "_view_module_version": "1.2.0",
            "_view_name": "LayoutView",
            "align_content": null,
            "align_items": null,
            "align_self": null,
            "border": null,
            "bottom": null,
            "display": null,
            "flex": null,
            "flex_flow": null,
            "grid_area": null,
            "grid_auto_columns": null,
            "grid_auto_flow": null,
            "grid_auto_rows": null,
            "grid_column": null,
            "grid_gap": null,
            "grid_row": null,
            "grid_template_areas": null,
            "grid_template_columns": null,
            "grid_template_rows": null,
            "height": null,
            "justify_content": null,
            "justify_items": null,
            "left": null,
            "margin": null,
            "max_height": null,
            "max_width": null,
            "min_height": null,
            "min_width": null,
            "object_fit": null,
            "object_position": null,
            "order": null,
            "overflow": null,
            "overflow_x": null,
            "overflow_y": null,
            "padding": null,
            "right": null,
            "top": null,
            "visibility": null,
            "width": null
          }
        },
        "927871a3705e4062a4b6eb4bc412695f": {
          "model_module": "@jupyter-widgets/controls",
          "model_name": "DescriptionStyleModel",
          "model_module_version": "1.5.0",
          "state": {
            "_model_module": "@jupyter-widgets/controls",
            "_model_module_version": "1.5.0",
            "_model_name": "DescriptionStyleModel",
            "_view_count": null,
            "_view_module": "@jupyter-widgets/base",
            "_view_module_version": "1.2.0",
            "_view_name": "StyleView",
            "description_width": ""
          }
        },
        "7cea99a7fe8d49a191c88e62374fd749": {
          "model_module": "@jupyter-widgets/controls",
          "model_name": "HBoxModel",
          "model_module_version": "1.5.0",
          "state": {
            "_dom_classes": [],
            "_model_module": "@jupyter-widgets/controls",
            "_model_module_version": "1.5.0",
            "_model_name": "HBoxModel",
            "_view_count": null,
            "_view_module": "@jupyter-widgets/controls",
            "_view_module_version": "1.5.0",
            "_view_name": "HBoxView",
            "box_style": "",
            "children": [
              "IPY_MODEL_b1e48166abca43c18964c8561bbaafca",
              "IPY_MODEL_0511ebb4428642f5ac7bfd6afe124d88",
              "IPY_MODEL_551eb7877b9e4b469b67e784f75119a0"
            ],
            "layout": "IPY_MODEL_1ad08d16f5d14f29a028175a67b50f02"
          }
        },
        "b1e48166abca43c18964c8561bbaafca": {
          "model_module": "@jupyter-widgets/controls",
          "model_name": "HTMLModel",
          "model_module_version": "1.5.0",
          "state": {
            "_dom_classes": [],
            "_model_module": "@jupyter-widgets/controls",
            "_model_module_version": "1.5.0",
            "_model_name": "HTMLModel",
            "_view_count": null,
            "_view_module": "@jupyter-widgets/controls",
            "_view_module_version": "1.5.0",
            "_view_name": "HTMLView",
            "description": "",
            "description_tooltip": null,
            "layout": "IPY_MODEL_0c7dfeb6c09e42588583b29ea265726d",
            "placeholder": "​",
            "style": "IPY_MODEL_cfef29a7982a4f229ccfa15a9e673022",
            "value": "Map: 100%"
          }
        },
        "0511ebb4428642f5ac7bfd6afe124d88": {
          "model_module": "@jupyter-widgets/controls",
          "model_name": "FloatProgressModel",
          "model_module_version": "1.5.0",
          "state": {
            "_dom_classes": [],
            "_model_module": "@jupyter-widgets/controls",
            "_model_module_version": "1.5.0",
            "_model_name": "FloatProgressModel",
            "_view_count": null,
            "_view_module": "@jupyter-widgets/controls",
            "_view_module_version": "1.5.0",
            "_view_name": "ProgressView",
            "bar_style": "success",
            "description": "",
            "description_tooltip": null,
            "layout": "IPY_MODEL_68fbfddecc93411ebb5bdb0bcb3cf7d3",
            "max": 158,
            "min": 0,
            "orientation": "horizontal",
            "style": "IPY_MODEL_8cc37cdf131e4feaae8f1dc3af713488",
            "value": 158
          }
        },
        "551eb7877b9e4b469b67e784f75119a0": {
          "model_module": "@jupyter-widgets/controls",
          "model_name": "HTMLModel",
          "model_module_version": "1.5.0",
          "state": {
            "_dom_classes": [],
            "_model_module": "@jupyter-widgets/controls",
            "_model_module_version": "1.5.0",
            "_model_name": "HTMLModel",
            "_view_count": null,
            "_view_module": "@jupyter-widgets/controls",
            "_view_module_version": "1.5.0",
            "_view_name": "HTMLView",
            "description": "",
            "description_tooltip": null,
            "layout": "IPY_MODEL_069ead6713b14555bba9ff72b660c88c",
            "placeholder": "​",
            "style": "IPY_MODEL_ee079c3ac8c1488994eaa2b1dcf6d703",
            "value": " 158/158 [00:00&lt;00:00, 261.83 examples/s]"
          }
        },
        "1ad08d16f5d14f29a028175a67b50f02": {
          "model_module": "@jupyter-widgets/base",
          "model_name": "LayoutModel",
          "model_module_version": "1.2.0",
          "state": {
            "_model_module": "@jupyter-widgets/base",
            "_model_module_version": "1.2.0",
            "_model_name": "LayoutModel",
            "_view_count": null,
            "_view_module": "@jupyter-widgets/base",
            "_view_module_version": "1.2.0",
            "_view_name": "LayoutView",
            "align_content": null,
            "align_items": null,
            "align_self": null,
            "border": null,
            "bottom": null,
            "display": null,
            "flex": null,
            "flex_flow": null,
            "grid_area": null,
            "grid_auto_columns": null,
            "grid_auto_flow": null,
            "grid_auto_rows": null,
            "grid_column": null,
            "grid_gap": null,
            "grid_row": null,
            "grid_template_areas": null,
            "grid_template_columns": null,
            "grid_template_rows": null,
            "height": null,
            "justify_content": null,
            "justify_items": null,
            "left": null,
            "margin": null,
            "max_height": null,
            "max_width": null,
            "min_height": null,
            "min_width": null,
            "object_fit": null,
            "object_position": null,
            "order": null,
            "overflow": null,
            "overflow_x": null,
            "overflow_y": null,
            "padding": null,
            "right": null,
            "top": null,
            "visibility": null,
            "width": null
          }
        },
        "0c7dfeb6c09e42588583b29ea265726d": {
          "model_module": "@jupyter-widgets/base",
          "model_name": "LayoutModel",
          "model_module_version": "1.2.0",
          "state": {
            "_model_module": "@jupyter-widgets/base",
            "_model_module_version": "1.2.0",
            "_model_name": "LayoutModel",
            "_view_count": null,
            "_view_module": "@jupyter-widgets/base",
            "_view_module_version": "1.2.0",
            "_view_name": "LayoutView",
            "align_content": null,
            "align_items": null,
            "align_self": null,
            "border": null,
            "bottom": null,
            "display": null,
            "flex": null,
            "flex_flow": null,
            "grid_area": null,
            "grid_auto_columns": null,
            "grid_auto_flow": null,
            "grid_auto_rows": null,
            "grid_column": null,
            "grid_gap": null,
            "grid_row": null,
            "grid_template_areas": null,
            "grid_template_columns": null,
            "grid_template_rows": null,
            "height": null,
            "justify_content": null,
            "justify_items": null,
            "left": null,
            "margin": null,
            "max_height": null,
            "max_width": null,
            "min_height": null,
            "min_width": null,
            "object_fit": null,
            "object_position": null,
            "order": null,
            "overflow": null,
            "overflow_x": null,
            "overflow_y": null,
            "padding": null,
            "right": null,
            "top": null,
            "visibility": null,
            "width": null
          }
        },
        "cfef29a7982a4f229ccfa15a9e673022": {
          "model_module": "@jupyter-widgets/controls",
          "model_name": "DescriptionStyleModel",
          "model_module_version": "1.5.0",
          "state": {
            "_model_module": "@jupyter-widgets/controls",
            "_model_module_version": "1.5.0",
            "_model_name": "DescriptionStyleModel",
            "_view_count": null,
            "_view_module": "@jupyter-widgets/base",
            "_view_module_version": "1.2.0",
            "_view_name": "StyleView",
            "description_width": ""
          }
        },
        "68fbfddecc93411ebb5bdb0bcb3cf7d3": {
          "model_module": "@jupyter-widgets/base",
          "model_name": "LayoutModel",
          "model_module_version": "1.2.0",
          "state": {
            "_model_module": "@jupyter-widgets/base",
            "_model_module_version": "1.2.0",
            "_model_name": "LayoutModel",
            "_view_count": null,
            "_view_module": "@jupyter-widgets/base",
            "_view_module_version": "1.2.0",
            "_view_name": "LayoutView",
            "align_content": null,
            "align_items": null,
            "align_self": null,
            "border": null,
            "bottom": null,
            "display": null,
            "flex": null,
            "flex_flow": null,
            "grid_area": null,
            "grid_auto_columns": null,
            "grid_auto_flow": null,
            "grid_auto_rows": null,
            "grid_column": null,
            "grid_gap": null,
            "grid_row": null,
            "grid_template_areas": null,
            "grid_template_columns": null,
            "grid_template_rows": null,
            "height": null,
            "justify_content": null,
            "justify_items": null,
            "left": null,
            "margin": null,
            "max_height": null,
            "max_width": null,
            "min_height": null,
            "min_width": null,
            "object_fit": null,
            "object_position": null,
            "order": null,
            "overflow": null,
            "overflow_x": null,
            "overflow_y": null,
            "padding": null,
            "right": null,
            "top": null,
            "visibility": null,
            "width": null
          }
        },
        "8cc37cdf131e4feaae8f1dc3af713488": {
          "model_module": "@jupyter-widgets/controls",
          "model_name": "ProgressStyleModel",
          "model_module_version": "1.5.0",
          "state": {
            "_model_module": "@jupyter-widgets/controls",
            "_model_module_version": "1.5.0",
            "_model_name": "ProgressStyleModel",
            "_view_count": null,
            "_view_module": "@jupyter-widgets/base",
            "_view_module_version": "1.2.0",
            "_view_name": "StyleView",
            "bar_color": null,
            "description_width": ""
          }
        },
        "069ead6713b14555bba9ff72b660c88c": {
          "model_module": "@jupyter-widgets/base",
          "model_name": "LayoutModel",
          "model_module_version": "1.2.0",
          "state": {
            "_model_module": "@jupyter-widgets/base",
            "_model_module_version": "1.2.0",
            "_model_name": "LayoutModel",
            "_view_count": null,
            "_view_module": "@jupyter-widgets/base",
            "_view_module_version": "1.2.0",
            "_view_name": "LayoutView",
            "align_content": null,
            "align_items": null,
            "align_self": null,
            "border": null,
            "bottom": null,
            "display": null,
            "flex": null,
            "flex_flow": null,
            "grid_area": null,
            "grid_auto_columns": null,
            "grid_auto_flow": null,
            "grid_auto_rows": null,
            "grid_column": null,
            "grid_gap": null,
            "grid_row": null,
            "grid_template_areas": null,
            "grid_template_columns": null,
            "grid_template_rows": null,
            "height": null,
            "justify_content": null,
            "justify_items": null,
            "left": null,
            "margin": null,
            "max_height": null,
            "max_width": null,
            "min_height": null,
            "min_width": null,
            "object_fit": null,
            "object_position": null,
            "order": null,
            "overflow": null,
            "overflow_x": null,
            "overflow_y": null,
            "padding": null,
            "right": null,
            "top": null,
            "visibility": null,
            "width": null
          }
        },
        "ee079c3ac8c1488994eaa2b1dcf6d703": {
          "model_module": "@jupyter-widgets/controls",
          "model_name": "DescriptionStyleModel",
          "model_module_version": "1.5.0",
          "state": {
            "_model_module": "@jupyter-widgets/controls",
            "_model_module_version": "1.5.0",
            "_model_name": "DescriptionStyleModel",
            "_view_count": null,
            "_view_module": "@jupyter-widgets/base",
            "_view_module_version": "1.2.0",
            "_view_name": "StyleView",
            "description_width": ""
          }
        },
        "6ea847bf102048f28929153cb899ebf8": {
          "model_module": "@jupyter-widgets/controls",
          "model_name": "HBoxModel",
          "model_module_version": "1.5.0",
          "state": {
            "_dom_classes": [],
            "_model_module": "@jupyter-widgets/controls",
            "_model_module_version": "1.5.0",
            "_model_name": "HBoxModel",
            "_view_count": null,
            "_view_module": "@jupyter-widgets/controls",
            "_view_module_version": "1.5.0",
            "_view_name": "HBoxView",
            "box_style": "",
            "children": [
              "IPY_MODEL_2c914542cb9449d18d8f77eeeafdc7f7",
              "IPY_MODEL_f0caa786da5941e0864e6f7b9c88e135",
              "IPY_MODEL_f311576f032b42cab030909f499b1dfb"
            ],
            "layout": "IPY_MODEL_7ae844d53df445f881454814b9246941"
          }
        },
        "2c914542cb9449d18d8f77eeeafdc7f7": {
          "model_module": "@jupyter-widgets/controls",
          "model_name": "HTMLModel",
          "model_module_version": "1.5.0",
          "state": {
            "_dom_classes": [],
            "_model_module": "@jupyter-widgets/controls",
            "_model_module_version": "1.5.0",
            "_model_name": "HTMLModel",
            "_view_count": null,
            "_view_module": "@jupyter-widgets/controls",
            "_view_module_version": "1.5.0",
            "_view_name": "HTMLView",
            "description": "",
            "description_tooltip": null,
            "layout": "IPY_MODEL_2c6555b46cac4e86bbb105c5db772290",
            "placeholder": "​",
            "style": "IPY_MODEL_13bf81b57b52472585285e60ee067bc1",
            "value": "Map: 100%"
          }
        },
        "f0caa786da5941e0864e6f7b9c88e135": {
          "model_module": "@jupyter-widgets/controls",
          "model_name": "FloatProgressModel",
          "model_module_version": "1.5.0",
          "state": {
            "_dom_classes": [],
            "_model_module": "@jupyter-widgets/controls",
            "_model_module_version": "1.5.0",
            "_model_name": "FloatProgressModel",
            "_view_count": null,
            "_view_module": "@jupyter-widgets/controls",
            "_view_module_version": "1.5.0",
            "_view_name": "ProgressView",
            "bar_style": "success",
            "description": "",
            "description_tooltip": null,
            "layout": "IPY_MODEL_ad6db9a36a554272aab1e188305faa00",
            "max": 158,
            "min": 0,
            "orientation": "horizontal",
            "style": "IPY_MODEL_c970a92ce7204f3f9b5fc6700cad100b",
            "value": 158
          }
        },
        "f311576f032b42cab030909f499b1dfb": {
          "model_module": "@jupyter-widgets/controls",
          "model_name": "HTMLModel",
          "model_module_version": "1.5.0",
          "state": {
            "_dom_classes": [],
            "_model_module": "@jupyter-widgets/controls",
            "_model_module_version": "1.5.0",
            "_model_name": "HTMLModel",
            "_view_count": null,
            "_view_module": "@jupyter-widgets/controls",
            "_view_module_version": "1.5.0",
            "_view_name": "HTMLView",
            "description": "",
            "description_tooltip": null,
            "layout": "IPY_MODEL_4c7f7103564e4f80828809748532f4df",
            "placeholder": "​",
            "style": "IPY_MODEL_7d9e7271746e48ec8205a935a3b85a9d",
            "value": " 158/158 [00:00&lt;00:00, 471.12 examples/s]"
          }
        },
        "7ae844d53df445f881454814b9246941": {
          "model_module": "@jupyter-widgets/base",
          "model_name": "LayoutModel",
          "model_module_version": "1.2.0",
          "state": {
            "_model_module": "@jupyter-widgets/base",
            "_model_module_version": "1.2.0",
            "_model_name": "LayoutModel",
            "_view_count": null,
            "_view_module": "@jupyter-widgets/base",
            "_view_module_version": "1.2.0",
            "_view_name": "LayoutView",
            "align_content": null,
            "align_items": null,
            "align_self": null,
            "border": null,
            "bottom": null,
            "display": null,
            "flex": null,
            "flex_flow": null,
            "grid_area": null,
            "grid_auto_columns": null,
            "grid_auto_flow": null,
            "grid_auto_rows": null,
            "grid_column": null,
            "grid_gap": null,
            "grid_row": null,
            "grid_template_areas": null,
            "grid_template_columns": null,
            "grid_template_rows": null,
            "height": null,
            "justify_content": null,
            "justify_items": null,
            "left": null,
            "margin": null,
            "max_height": null,
            "max_width": null,
            "min_height": null,
            "min_width": null,
            "object_fit": null,
            "object_position": null,
            "order": null,
            "overflow": null,
            "overflow_x": null,
            "overflow_y": null,
            "padding": null,
            "right": null,
            "top": null,
            "visibility": null,
            "width": null
          }
        },
        "2c6555b46cac4e86bbb105c5db772290": {
          "model_module": "@jupyter-widgets/base",
          "model_name": "LayoutModel",
          "model_module_version": "1.2.0",
          "state": {
            "_model_module": "@jupyter-widgets/base",
            "_model_module_version": "1.2.0",
            "_model_name": "LayoutModel",
            "_view_count": null,
            "_view_module": "@jupyter-widgets/base",
            "_view_module_version": "1.2.0",
            "_view_name": "LayoutView",
            "align_content": null,
            "align_items": null,
            "align_self": null,
            "border": null,
            "bottom": null,
            "display": null,
            "flex": null,
            "flex_flow": null,
            "grid_area": null,
            "grid_auto_columns": null,
            "grid_auto_flow": null,
            "grid_auto_rows": null,
            "grid_column": null,
            "grid_gap": null,
            "grid_row": null,
            "grid_template_areas": null,
            "grid_template_columns": null,
            "grid_template_rows": null,
            "height": null,
            "justify_content": null,
            "justify_items": null,
            "left": null,
            "margin": null,
            "max_height": null,
            "max_width": null,
            "min_height": null,
            "min_width": null,
            "object_fit": null,
            "object_position": null,
            "order": null,
            "overflow": null,
            "overflow_x": null,
            "overflow_y": null,
            "padding": null,
            "right": null,
            "top": null,
            "visibility": null,
            "width": null
          }
        },
        "13bf81b57b52472585285e60ee067bc1": {
          "model_module": "@jupyter-widgets/controls",
          "model_name": "DescriptionStyleModel",
          "model_module_version": "1.5.0",
          "state": {
            "_model_module": "@jupyter-widgets/controls",
            "_model_module_version": "1.5.0",
            "_model_name": "DescriptionStyleModel",
            "_view_count": null,
            "_view_module": "@jupyter-widgets/base",
            "_view_module_version": "1.2.0",
            "_view_name": "StyleView",
            "description_width": ""
          }
        },
        "ad6db9a36a554272aab1e188305faa00": {
          "model_module": "@jupyter-widgets/base",
          "model_name": "LayoutModel",
          "model_module_version": "1.2.0",
          "state": {
            "_model_module": "@jupyter-widgets/base",
            "_model_module_version": "1.2.0",
            "_model_name": "LayoutModel",
            "_view_count": null,
            "_view_module": "@jupyter-widgets/base",
            "_view_module_version": "1.2.0",
            "_view_name": "LayoutView",
            "align_content": null,
            "align_items": null,
            "align_self": null,
            "border": null,
            "bottom": null,
            "display": null,
            "flex": null,
            "flex_flow": null,
            "grid_area": null,
            "grid_auto_columns": null,
            "grid_auto_flow": null,
            "grid_auto_rows": null,
            "grid_column": null,
            "grid_gap": null,
            "grid_row": null,
            "grid_template_areas": null,
            "grid_template_columns": null,
            "grid_template_rows": null,
            "height": null,
            "justify_content": null,
            "justify_items": null,
            "left": null,
            "margin": null,
            "max_height": null,
            "max_width": null,
            "min_height": null,
            "min_width": null,
            "object_fit": null,
            "object_position": null,
            "order": null,
            "overflow": null,
            "overflow_x": null,
            "overflow_y": null,
            "padding": null,
            "right": null,
            "top": null,
            "visibility": null,
            "width": null
          }
        },
        "c970a92ce7204f3f9b5fc6700cad100b": {
          "model_module": "@jupyter-widgets/controls",
          "model_name": "ProgressStyleModel",
          "model_module_version": "1.5.0",
          "state": {
            "_model_module": "@jupyter-widgets/controls",
            "_model_module_version": "1.5.0",
            "_model_name": "ProgressStyleModel",
            "_view_count": null,
            "_view_module": "@jupyter-widgets/base",
            "_view_module_version": "1.2.0",
            "_view_name": "StyleView",
            "bar_color": null,
            "description_width": ""
          }
        },
        "4c7f7103564e4f80828809748532f4df": {
          "model_module": "@jupyter-widgets/base",
          "model_name": "LayoutModel",
          "model_module_version": "1.2.0",
          "state": {
            "_model_module": "@jupyter-widgets/base",
            "_model_module_version": "1.2.0",
            "_model_name": "LayoutModel",
            "_view_count": null,
            "_view_module": "@jupyter-widgets/base",
            "_view_module_version": "1.2.0",
            "_view_name": "LayoutView",
            "align_content": null,
            "align_items": null,
            "align_self": null,
            "border": null,
            "bottom": null,
            "display": null,
            "flex": null,
            "flex_flow": null,
            "grid_area": null,
            "grid_auto_columns": null,
            "grid_auto_flow": null,
            "grid_auto_rows": null,
            "grid_column": null,
            "grid_gap": null,
            "grid_row": null,
            "grid_template_areas": null,
            "grid_template_columns": null,
            "grid_template_rows": null,
            "height": null,
            "justify_content": null,
            "justify_items": null,
            "left": null,
            "margin": null,
            "max_height": null,
            "max_width": null,
            "min_height": null,
            "min_width": null,
            "object_fit": null,
            "object_position": null,
            "order": null,
            "overflow": null,
            "overflow_x": null,
            "overflow_y": null,
            "padding": null,
            "right": null,
            "top": null,
            "visibility": null,
            "width": null
          }
        },
        "7d9e7271746e48ec8205a935a3b85a9d": {
          "model_module": "@jupyter-widgets/controls",
          "model_name": "DescriptionStyleModel",
          "model_module_version": "1.5.0",
          "state": {
            "_model_module": "@jupyter-widgets/controls",
            "_model_module_version": "1.5.0",
            "_model_name": "DescriptionStyleModel",
            "_view_count": null,
            "_view_module": "@jupyter-widgets/base",
            "_view_module_version": "1.2.0",
            "_view_name": "StyleView",
            "description_width": ""
          }
        }
      }
    }
  },
  "nbformat": 4,
  "nbformat_minor": 0
}